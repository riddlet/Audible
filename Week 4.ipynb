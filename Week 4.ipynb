{
 "cells": [
  {
   "cell_type": "code",
   "execution_count": 1,
   "metadata": {
    "collapsed": false
   },
   "outputs": [
    {
     "name": "stderr",
     "output_type": "stream",
     "text": [
      "//anaconda/lib/python2.7/site-packages/IPython/html.py:14: ShimWarning: The `IPython.html` package has been deprecated. You should import from `notebook` instead. `IPython.html.widgets` has moved to `ipywidgets`.\n",
      "  \"`IPython.html.widgets` has moved to `ipywidgets`.\", ShimWarning)\n"
     ]
    }
   ],
   "source": [
    "%matplotlib inline\n",
    "import seaborn as sns\n",
    "import matplotlib as plt"
   ]
  },
  {
   "cell_type": "markdown",
   "metadata": {},
   "source": [
    "In the first part of this week's work, I'm going to apply the pre-trained model described in the [Lample et al](https://arxiv.org/abs/1603.01360) paper. We've been referring to this as a \"Glample\" model, so I'll stick with that. In this work, they use a bi-directional LSTM with a conditional random field on top to output the classes. Performance is roughly on par with other systems, but provides the advantage of being language agnostic and does not rely on any external labeled data (e.g. gazetteer). Performance on Spanish and German surpasses previous state-of-the-art.\n",
    "\n",
    "To evaluate the glample model, I need to write an output file"
   ]
  },
  {
   "cell_type": "code",
   "execution_count": 3,
   "metadata": {
    "collapsed": true
   },
   "outputs": [],
   "source": [
    "import lxml.etree as etree\n",
    "from bs4 import BeautifulSoup\n",
    "import glob\n",
    "files = glob.glob('data/audible/processedText/*.xml')\n",
    "outdat = open('audible_files.txt', 'w')\n",
    "for f in files:\n",
    "    xml_data = open(f).read()\n",
    "    soup = BeautifulSoup(xml_data, 'lxml')\n",
    "    sentences = soup.find_all('s')\n",
    "    for s in sentences:\n",
    "        tokens = s.find_all(['w', 'c'])\n",
    "        for i in tokens:\n",
    "            outdat.write(i.text.encode('utf8'))\n",
    "            outdat.write(' ')\n",
    "        outdat.write('\\n')\n",
    "\n",
    "outdat.close()"
   ]
  },
  {
   "cell_type": "markdown",
   "metadata": {},
   "source": [
    "Having written this file, I ran it through glample via the command-line utility function. It returned an output file in which the words were tagged as below:"
   ]
  },
  {
   "cell_type": "code",
   "execution_count": 4,
   "metadata": {
    "collapsed": false
   },
   "outputs": [
    {
     "data": {
      "text/plain": [
       "[u'\"__O There__O was__O no__O water__O in__O the__O cat__O \\'s__O bowl__O ,__O \"__O she__O said__O .__O\\n',\n",
       " u'\"__O He__O drinks__O out__O of__O the__O toilet__O ,__O \"__O I__O said__O .__O\\n',\n",
       " u'\"__O That__O \\'s__O disgusting__O .__O \"__O\\n',\n",
       " u'\"__O That__O \\'s__O what__O I__O \\'ve__O been__O telling__O him__O ,__O \"__O I__O said__O .__O\\n',\n",
       " u'But__O she__O saw__O no__O humor__O in__O my__O remark__O .__O\\n',\n",
       " u'She__O served__O oatmeal__O in__O two__O bowls__O and__O placed__O them__O on__O the__O breakfast__O table__O ,__O then__O began__O hunting__O for__O spoons__O and__O coffee__O cups__O .__O\\n',\n",
       " u'I__O looked__O at__O my__O watch__O .__O\\n',\n",
       " u'\"__O I__O \\'m__O running__O a__O little__O bit__O late__O for__O Mass__B-ORG ,__O \"__O I__O lied__O .__O\\n',\n",
       " u'\"__O Where__O \\'s__O your__O butter__O dish__O ?__O \"__O\\n',\n",
       " u'\"__O I__O do__O n\\'t__O have__O one__O .__O\\n']"
      ]
     },
     "execution_count": 4,
     "metadata": {},
     "output_type": "execute_result"
    }
   ],
   "source": [
    "import codecs\n",
    "\n",
    "f = codecs.open('tagger-master/output.txt', 'r', 'utf-8')\n",
    "glampledat = f.readlines()\n",
    "glampledat[0:10]"
   ]
  },
  {
   "cell_type": "markdown",
   "metadata": {},
   "source": [
    "As in some of the previous efforts, the tokenizers worked a bit differently. So below we take care to line things up."
   ]
  },
  {
   "cell_type": "code",
   "execution_count": 5,
   "metadata": {
    "collapsed": false
   },
   "outputs": [],
   "source": [
    "glampletags = []\n",
    "for i, sentence in enumerate(glampledat):\n",
    "    glampletags.append((sentence.split()))"
   ]
  },
  {
   "cell_type": "code",
   "execution_count": 6,
   "metadata": {
    "collapsed": false
   },
   "outputs": [],
   "source": [
    "glample_text = []# containers to hold data\n",
    "glample_tag = []\n",
    "audible_text = []\n",
    "audible_tag = []\n",
    "file_num = []\n",
    "corpus_counter = -1 #glample file is just one - audible is many. this keeps track of which sentence across files\n",
    "for k, f in enumerate(files):\n",
    "    xml_data = open(f).read()\n",
    "    soup = BeautifulSoup(xml_data, 'lxml')\n",
    "    sentences = soup.find_all('s')\n",
    "    for j, s in enumerate(sentences):\n",
    "        corpus_counter = corpus_counter + 1\n",
    "        glample_sent = glampletags[corpus_counter] #pluck out the current sentence\n",
    "        glample_words = [i.split('__') for i in glample_sent] #split the words from the tags\n",
    "        words = s.find_all(['w', 'c'])\n",
    "        if len(glample_words) == len(words): #if the tokenization is the same\n",
    "            for i, w in enumerate(words):\n",
    "                if 'ner' in w.attrs:\n",
    "                    glample_text.append(glample_words[i][0])\n",
    "                    glample_tag.append(glample_words[i][1])\n",
    "                    audible_text.append(w.text)\n",
    "                    audible_tag.append(w.attrs['ner'])\n",
    "                    file_num.append(k)\n",
    "                else:\n",
    "                    glample_text.append(glample_words[i][0])\n",
    "                    glample_tag.append(glample_words[i][1])\n",
    "                    audible_text.append(w.text)\n",
    "                    audible_tag.append('O-')\n",
    "                    file_num.append(k)\n",
    "        else: #if the tokenization is not the same\n",
    "            offset = 0 #keeps track of how far in front of the current tag we're looking\n",
    "            gl_index = 0 #independent indexer for glample tags\n",
    "            for i, w in enumerate(words):\n",
    "                offset = 0\n",
    "                \n",
    "                while w.text != glample_words[gl_index][0]: #for the token that doesn't match, start gathering words & tags from in front of it\n",
    "                    offset += 1\n",
    "                    glample_words[gl_index][0] = glample_words[gl_index][0] + ' ' + glample_words[gl_index+offset][0]\n",
    "                    glample_words[gl_index][1] = glample_words[gl_index][1] + ' ' + glample_words[gl_index+offset][1]\n",
    "\n",
    "                gl_index += offset #put the index up to where the final tag was added\n",
    "                if 'ner' in w.attrs:\n",
    "                    glample_text.append(glample_words[gl_index-offset][0])\n",
    "                    glample_tag.append(glample_words[gl_index-offset][1])\n",
    "                    audible_text.append(w.text)\n",
    "                    audible_tag.append(w.attrs['ner'])\n",
    "                    file_num.append(k)\n",
    "                    gl_index += 1 #increment index to look at next word\n",
    "                    \n",
    "                else:\n",
    "                    glample_text.append(glample_words[gl_index-offset][0])\n",
    "                    glample_tag.append(glample_words[gl_index-offset][1])\n",
    "                    audible_text.append(w.text)\n",
    "                    audible_tag.append('O-')\n",
    "                    file_num.append(k)\n",
    "                    gl_index += 1\n",
    "            "
   ]
  },
  {
   "cell_type": "code",
   "execution_count": 21,
   "metadata": {
    "collapsed": false
   },
   "outputs": [],
   "source": [
    "import pandas as pd\n",
    "df = pd.DataFrame({'glample_text':glample_text,\n",
    "             'glample_tag':glample_tag,\n",
    "             'audible_text':audible_text,\n",
    "             'audible_tag':audible_tag,\n",
    "             'filenum':file_num})"
   ]
  },
  {
   "cell_type": "markdown",
   "metadata": {
    "collapsed": false
   },
   "source": [
    "# Standardizing tags\n",
    "\n",
    "Because of the different tagging systems, we need to standardize the tags. I do this below, then show the performance of the glample system."
   ]
  },
  {
   "cell_type": "code",
   "execution_count": 22,
   "metadata": {
    "collapsed": false
   },
   "outputs": [
    {
     "name": "stderr",
     "output_type": "stream",
     "text": [
      "/anaconda/lib/python2.7/site-packages/ipykernel/__main__.py:8: SettingWithCopyWarning: \n",
      "A value is trying to be set on a copy of a slice from a DataFrame\n",
      "\n",
      "See the caveats in the documentation: http://pandas.pydata.org/pandas-docs/stable/indexing.html#indexing-view-versus-copy\n",
      "/anaconda/lib/python2.7/site-packages/ipykernel/__main__.py:9: SettingWithCopyWarning: \n",
      "A value is trying to be set on a copy of a slice from a DataFrame\n",
      "\n",
      "See the caveats in the documentation: http://pandas.pydata.org/pandas-docs/stable/indexing.html#indexing-view-versus-copy\n",
      "/anaconda/lib/python2.7/site-packages/ipykernel/__main__.py:10: SettingWithCopyWarning: \n",
      "A value is trying to be set on a copy of a slice from a DataFrame\n",
      "\n",
      "See the caveats in the documentation: http://pandas.pydata.org/pandas-docs/stable/indexing.html#indexing-view-versus-copy\n"
     ]
    },
    {
     "data": {
      "text/plain": [
       "O-     315461\n",
       "B-P      7858\n",
       "I-P      1199\n",
       "B-L      1042\n",
       "I-L       365\n",
       "B-O       208\n",
       "I-O       183\n",
       "Name: aud_clean, dtype: int64"
      ]
     },
     "execution_count": 22,
     "metadata": {},
     "output_type": "execute_result"
    }
   ],
   "source": [
    "from audible import clean_audible_tags\n",
    "\n",
    "df['audible_tag'] = df.audible_tag.map(str) + df.filenum.map(str)\n",
    "\n",
    "df['aud_clean'] = df.audible_tag.apply(clean_audible_tags)\n",
    "df['counter'] = df.groupby('audible_tag').cumcount()\n",
    "df['iob_sys'] = 'O'\n",
    "df['iob_sys'][df.counter==0] = 'B'\n",
    "df['iob_sys'][df.counter>0] = 'I'\n",
    "df['aud_clean'][df.aud_clean!='O-'] = df['iob_sys']+df['aud_clean']\n",
    "df.aud_clean.value_counts()"
   ]
  },
  {
   "cell_type": "code",
   "execution_count": 23,
   "metadata": {
    "collapsed": false
   },
   "outputs": [
    {
     "data": {
      "text/plain": [
       "O-     314086\n",
       "B-P      7724\n",
       "B-L      1260\n",
       "I-P      1140\n",
       "B-O       877\n",
       "I-O       707\n",
       "I-L       522\n",
       "Name: glamp_clean, dtype: int64"
      ]
     },
     "execution_count": 23,
     "metadata": {},
     "output_type": "execute_result"
    }
   ],
   "source": [
    "import re\n",
    "def clean_glample_tags(tags):\n",
    "    prog = re.compile('^O')\n",
    "    if prog.match(tags):\n",
    "        out = 'O-'\n",
    "    else:\n",
    "        out = tags\n",
    "    prog = re.compile('^(B|I)-(P|L|O)')\n",
    "    if prog.match(out):\n",
    "        matched = prog.match(out).group(1)+'-'+prog.match(out).group(2)\n",
    "        out = matched\n",
    "    prog = re.compile('^(B|I)-MISC')\n",
    "    if prog.match(tags):\n",
    "        out = 'O-'\n",
    "    return(out)\n",
    "\n",
    "df['glamp_clean'] = df.glample_tag.apply(clean_glample_tags)\n",
    "df.glamp_clean.value_counts()"
   ]
  },
  {
   "cell_type": "markdown",
   "metadata": {},
   "source": [
    "For convenience, below I'm gathering the tags from each of the systems."
   ]
  },
  {
   "cell_type": "code",
   "execution_count": 24,
   "metadata": {
    "collapsed": false
   },
   "outputs": [
    {
     "data": {
      "text/html": [
       "<div>\n",
       "<table border=\"1\" class=\"dataframe\">\n",
       "  <thead>\n",
       "    <tr style=\"text-align: right;\">\n",
       "      <th></th>\n",
       "      <th>audible_text</th>\n",
       "      <th>aud_clean</th>\n",
       "      <th>glamp_clean</th>\n",
       "      <th>spacy</th>\n",
       "      <th>stanford</th>\n",
       "    </tr>\n",
       "  </thead>\n",
       "  <tbody>\n",
       "    <tr>\n",
       "      <th>0</th>\n",
       "      <td>\"</td>\n",
       "      <td>O-</td>\n",
       "      <td>O-</td>\n",
       "      <td>O-</td>\n",
       "      <td>O-</td>\n",
       "    </tr>\n",
       "    <tr>\n",
       "      <th>1</th>\n",
       "      <td>There</td>\n",
       "      <td>O-</td>\n",
       "      <td>O-</td>\n",
       "      <td>O-</td>\n",
       "      <td>O-</td>\n",
       "    </tr>\n",
       "    <tr>\n",
       "      <th>2</th>\n",
       "      <td>was</td>\n",
       "      <td>O-</td>\n",
       "      <td>O-</td>\n",
       "      <td>O-</td>\n",
       "      <td>O-</td>\n",
       "    </tr>\n",
       "    <tr>\n",
       "      <th>3</th>\n",
       "      <td>no</td>\n",
       "      <td>O-</td>\n",
       "      <td>O-</td>\n",
       "      <td>O-</td>\n",
       "      <td>O-</td>\n",
       "    </tr>\n",
       "    <tr>\n",
       "      <th>4</th>\n",
       "      <td>water</td>\n",
       "      <td>O-</td>\n",
       "      <td>O-</td>\n",
       "      <td>O-</td>\n",
       "      <td>O-</td>\n",
       "    </tr>\n",
       "  </tbody>\n",
       "</table>\n",
       "</div>"
      ],
      "text/plain": [
       "  audible_text aud_clean glamp_clean spacy stanford\n",
       "0            \"        O-          O-    O-       O-\n",
       "1        There        O-          O-    O-       O-\n",
       "2          was        O-          O-    O-       O-\n",
       "3           no        O-          O-    O-       O-\n",
       "4        water        O-          O-    O-       O-"
      ]
     },
     "execution_count": 24,
     "metadata": {},
     "output_type": "execute_result"
    }
   ],
   "source": [
    "df_spacy = pd.read_csv('temp', sep=' ', header=None, names = ['token', 'aud', 'spacy'])\n",
    "df_corenlp = pd.read_csv('temp_stanford', sep=' ', header=None, names = ['token', 'aud', 'stanford'])\n",
    "df_glample = pd.read_csv('temp_glample', sep=' ', header=None, names = ['token', 'aud', 'glample'])\n",
    "df['spacy'] = df_spacy['spacy']\n",
    "df['stanford'] = df_corenlp['stanford']\n",
    "df = df[['audible_text', 'aud_clean', 'glamp_clean', 'spacy', 'stanford']]\n",
    "df.head()"
   ]
  },
  {
   "cell_type": "code",
   "execution_count": 12,
   "metadata": {
    "collapsed": false
   },
   "outputs": [
    {
     "name": "stderr",
     "output_type": "stream",
     "text": [
      "/anaconda/lib/python2.7/site-packages/ipykernel/__main__.py:2: SettingWithCopyWarning: \n",
      "A value is trying to be set on a copy of a slice from a DataFrame.\n",
      "Try using .loc[row_indexer,col_indexer] = value instead\n",
      "\n",
      "See the caveats in the documentation: http://pandas.pydata.org/pandas-docs/stable/indexing.html#indexing-view-versus-copy\n",
      "  from ipykernel import kernelapp as app\n",
      "/anaconda/lib/python2.7/site-packages/ipykernel/__main__.py:5: SettingWithCopyWarning: \n",
      "A value is trying to be set on a copy of a slice from a DataFrame.\n",
      "Try using .loc[row_indexer,col_indexer] = value instead\n",
      "\n",
      "See the caveats in the documentation: http://pandas.pydata.org/pandas-docs/stable/indexing.html#indexing-view-versus-copy\n",
      "/anaconda/lib/python2.7/site-packages/ipykernel/__main__.py:8: SettingWithCopyWarning: \n",
      "A value is trying to be set on a copy of a slice from a DataFrame.\n",
      "Try using .loc[row_indexer,col_indexer] = value instead\n",
      "\n",
      "See the caveats in the documentation: http://pandas.pydata.org/pandas-docs/stable/indexing.html#indexing-view-versus-copy\n"
     ]
    }
   ],
   "source": [
    "outdat = df[['audible_text', 'aud_clean', 'glamp_clean']]\n",
    "outdat['audible_text'] = outdat.audible_text.apply(lambda x: x.replace(' ', ''))\n",
    "outdat.to_csv('temp_glample', sep=' ', encoding='utf-8', index=False, header=False)\n",
    "outdat = df[['audible_text', 'aud_clean', 'spacy']]\n",
    "outdat['audible_text'] = outdat.audible_text.apply(lambda x: x.replace(' ', ''))\n",
    "outdat.to_csv('temp_spacy', sep=' ', encoding='utf-8', index=False, header=False)\n",
    "outdat = df[['audible_text', 'aud_clean', 'stanford']]\n",
    "outdat['audible_text'] = outdat.audible_text.apply(lambda x: x.replace(' ', ''))\n",
    "outdat.to_csv('temp_stanford', sep=' ', encoding='utf-8', index=False, header=False)"
   ]
  },
  {
   "cell_type": "markdown",
   "metadata": {},
   "source": [
    "`processed 326316 tokens with 9108 phrases; found: 9864 phrases; correct: 7520.`\n",
    "\n",
    "`accuracy:  97.39%; precision:  76.24%; recall:  82.56%; FB1:  79.27\n",
    "                L: precision:  61.28%; recall:  74.28%; FB1:  67.16  1263\n",
    "                O: precision:  12.77%; recall:  53.85%; FB1:  20.65  877\n",
    "                P: precision:  85.89%; recall:  84.42%; FB1:  85.15  7724`"
   ]
  },
  {
   "cell_type": "markdown",
   "metadata": {},
   "source": [
    "As seen above, the performance is roughly on par with the coreNLP system (F1 of 83.7). This is about what would be expected based on the glample paper, as they indicated that performance was roughly equivalent with other state of the art systems.\n",
    "\n",
    "# Error analysis\n",
    "\n",
    "For this section, I'm going to do some exploration of what kinds of errors are made by each of the systems. First, I'm going to examine those instances where audible's tags disagreed with the other three systems. There are almost 800 instances of this problem."
   ]
  },
  {
   "cell_type": "code",
   "execution_count": 28,
   "metadata": {
    "collapsed": false
   },
   "outputs": [
    {
     "data": {
      "text/plain": [
       "(788, 7)"
      ]
     },
     "execution_count": 28,
     "metadata": {},
     "output_type": "execute_result"
    }
   ],
   "source": [
    "df['unique_tags'] = df.iloc[:, 1:5].apply(lambda x: x.nunique(), axis=1)\n",
    "df['unique_tags_noaud'] = df.iloc[:, 2:5].apply(lambda x: x.nunique(), axis=1)\n",
    "df[(df['unique_tags']>1) & (df['unique_tags_noaud'] == 1)].shape"
   ]
  },
  {
   "cell_type": "code",
   "execution_count": 29,
   "metadata": {
    "collapsed": false
   },
   "outputs": [],
   "source": [
    "auds = df[(df['unique_tags']>1) & (df['unique_tags_noaud'] == 1)]['aud_clean'].value_counts()\n",
    "totals = df.aud_clean.value_counts()"
   ]
  },
  {
   "cell_type": "code",
   "execution_count": 74,
   "metadata": {
    "collapsed": false
   },
   "outputs": [],
   "source": [
    "from __future__ import division\n",
    "plot_dat = pd.DataFrame({'auds':auds,\n",
    "             'totals':totals})\n",
    "plot_dat['ratio'] = plot_dat.auds/plot_dat.totals"
   ]
  },
  {
   "cell_type": "markdown",
   "metadata": {},
   "source": [
    "# What kind of disagreements are between audible's data and everything else?\n",
    "\n",
    "The figure below represents a ratio of audible tags that disagree with the other three systems over the total number of tags of each type as indicated by audible's system. Thus, any tag that audible applies to data with greater frequency than the other three systems would be represented here with high values. This metric suggests that Audible is more likely to extend a label into multiple words than the other systems, as the `I-` tags have higher values than the `B-` tags for people and locations, while the rates are closer to equal for organizations. Additionally, it appears that there's generally more disagreement over the organizational tags than anything else. This is consistent with the performance metrics from the other systems, which had low performance for Organizations."
   ]
  },
  {
   "cell_type": "code",
   "execution_count": 31,
   "metadata": {
    "collapsed": false
   },
   "outputs": [
    {
     "data": {
      "text/plain": [
       "<matplotlib.axes._subplots.AxesSubplot at 0x12c3d59d0>"
      ]
     },
     "execution_count": 31,
     "metadata": {},
     "output_type": "execute_result"
    },
    {
     "data": {
      "image/png": "[encoded data removed]",
      "text/plain": [
       "<matplotlib.figure.Figure at 0x11ac74590>"
      ]
     },
     "metadata": {},
     "output_type": "display_data"
    }
   ],
   "source": [
    "sns.barplot(plot_dat.index, plot_dat.ratio)"
   ]
  },
  {
   "cell_type": "markdown",
   "metadata": {},
   "source": [
    "Below, I sample twenty instances in which Audible's label disagreed with all the others. For each of these twenty instances, I examine a window of text (instance +/- 5 words) to determine whether it is accurate or not. Of the 20 instances, my examination suggests that Audible's label is wrong **12** times."
   ]
  },
  {
   "cell_type": "code",
   "execution_count": 75,
   "metadata": {
    "collapsed": false
   },
   "outputs": [],
   "source": [
    "import random\n",
    "locations = df[(df['unique_tags']>1) & (df['unique_tags_noaud'] == 1)].index.tolist()\n",
    "samples = random.sample(locations, 20)\n",
    "sample_locations = []\n",
    "f = codecs.open('examples_audible.txt', 'w', 'utf8')\n",
    "f.write('word \\t audible \\t glample \\t spacy \\t stanford \\n')\n",
    "for i in samples:\n",
    "    for j in range(i-5, i+5):\n",
    "        out_line = df.iloc[j, 0:5].tolist()\n",
    "        for cell in out_line:\n",
    "            f.write(cell)\n",
    "            f.write('\\t\\t')\n",
    "        f.write('\\n')\n",
    "    f.write('\\n\\n')\n",
    "f.close()"
   ]
  },
  {
   "cell_type": "markdown",
   "metadata": {
    "collapsed": true
   },
   "source": [
    "# What kind of disagreements are between each of the other systems?\n",
    "\n",
    "I now perform a similar analysis for each of the other systems\n",
    "\n",
    "## Glample\n",
    "We see that glample contains about 1400 instances where it disagrees with all the other systems. The figure below suggests that Glample is overlabeling organizations - when looking at just those cases where its label is inconsistent with all three other systems, the number of organization labels relative to the total number of organization labels applied by glample is relatively high. Additionally, it appears glample has a tendency to extend location tags more than it does other tags. We also see fairly low error rates for people."
   ]
  },
  {
   "cell_type": "code",
   "execution_count": 50,
   "metadata": {
    "collapsed": false
   },
   "outputs": [
    {
     "data": {
      "text/plain": [
       "(1435, 8)"
      ]
     },
     "execution_count": 50,
     "metadata": {},
     "output_type": "execute_result"
    }
   ],
   "source": [
    "df['unique_tags_noglamp'] = df[['aud_clean', 'spacy', 'stanford']].apply(lambda x: x.nunique(), axis=1)\n",
    "df[(df['unique_tags']>1) & (df['unique_tags_noglamp'] == 1)].shape"
   ]
  },
  {
   "cell_type": "code",
   "execution_count": 63,
   "metadata": {
    "collapsed": false
   },
   "outputs": [],
   "source": [
    "glamps = df[(df['unique_tags']>1) & (df['unique_tags_noglamp'] == 1)]['glamp_clean'].value_counts()\n",
    "totals = df.glamp_clean.value_counts()\n",
    "plot_dat = pd.DataFrame({'glamps':glamps,\n",
    "             'totals':totals})\n",
    "plot_dat['ratio'] = plot_dat.glamps/plot_dat.totals"
   ]
  },
  {
   "cell_type": "code",
   "execution_count": 64,
   "metadata": {
    "collapsed": false
   },
   "outputs": [
    {
     "data": {
      "text/plain": [
       "<matplotlib.axes._subplots.AxesSubplot at 0x116ed1510>"
      ]
     },
     "execution_count": 64,
     "metadata": {},
     "output_type": "execute_result"
    },
    {
     "data": {
      "image/png": "[encoded data removed]",
      "text/plain": [
       "<matplotlib.figure.Figure at 0x120720e10>"
      ]
     },
     "metadata": {},
     "output_type": "display_data"
    }
   ],
   "source": [
    "sns.barplot(plot_dat.index, plot_dat.ratio)"
   ]
  },
  {
   "cell_type": "markdown",
   "metadata": {},
   "source": [
    "In the file written below, it appears that Glample's label is mistaken **14** times"
   ]
  },
  {
   "cell_type": "code",
   "execution_count": 65,
   "metadata": {
    "collapsed": false
   },
   "outputs": [],
   "source": [
    "locations = df[(df['unique_tags']>1) & (df['unique_tags_noglamp'] == 1)].index.tolist()\n",
    "samples = random.sample(locations, 20)\n",
    "sample_locations = []\n",
    "f = codecs.open('examples_glample.txt', 'w', 'utf8')\n",
    "f.write('word \\t audible \\t glample \\t spacy \\t stanford \\n')\n",
    "for i in samples:\n",
    "    for j in range(i-5, i+5):\n",
    "        out_line = df.iloc[j, 0:5].tolist()\n",
    "        for cell in out_line:\n",
    "            f.write(cell)\n",
    "            f.write('\\t\\t')\n",
    "        f.write('\\n')\n",
    "    f.write('\\n\\n')\n",
    "f.close()"
   ]
  },
  {
   "cell_type": "markdown",
   "metadata": {},
   "source": [
    "## Spacy\n",
    "We see that Spacy contains about 1700 instances where it disagrees with all the other systems. The figure below suggests that Spacy is also overlabeling organizations.  In contrast to the previous systems, however, we see much less of a tendency for longer labeling here. `I-L` and `I-O` tags are both underrepresented in comparison to the `B-L` and `B-O` tags."
   ]
  },
  {
   "cell_type": "code",
   "execution_count": 66,
   "metadata": {
    "collapsed": false
   },
   "outputs": [
    {
     "data": {
      "text/plain": [
       "(1697, 9)"
      ]
     },
     "execution_count": 66,
     "metadata": {},
     "output_type": "execute_result"
    }
   ],
   "source": [
    "df['unique_tags_nospacy'] = df[['aud_clean', 'glamp_clean', 'stanford']].apply(lambda x: x.nunique(), axis=1)\n",
    "df[(df['unique_tags']>1) & (df['unique_tags_nospacy'] == 1)].shape"
   ]
  },
  {
   "cell_type": "code",
   "execution_count": 67,
   "metadata": {
    "collapsed": true
   },
   "outputs": [],
   "source": [
    "spac = df[(df['unique_tags']>1) & (df['unique_tags_nospacy'] == 1)]['spacy'].value_counts()\n",
    "totals = df.spacy.value_counts()\n",
    "plot_dat = pd.DataFrame({'spacy':spac,\n",
    "             'totals':totals})\n",
    "plot_dat['ratio'] = plot_dat.spacy/plot_dat.totals"
   ]
  },
  {
   "cell_type": "code",
   "execution_count": 68,
   "metadata": {
    "collapsed": false
   },
   "outputs": [
    {
     "data": {
      "text/plain": [
       "<matplotlib.axes._subplots.AxesSubplot at 0x1163af790>"
      ]
     },
     "execution_count": 68,
     "metadata": {},
     "output_type": "execute_result"
    },
    {
     "data": {
      "image/png": "[encoded data removed]",
      "text/plain": [
       "<matplotlib.figure.Figure at 0x11f17dfd0>"
      ]
     },
     "metadata": {},
     "output_type": "display_data"
    }
   ],
   "source": [
    "sns.barplot(plot_dat.index, plot_dat.ratio)"
   ]
  },
  {
   "cell_type": "markdown",
   "metadata": {},
   "source": [
    "In the file below, it appears Spacy's label is mistaken **12** times"
   ]
  },
  {
   "cell_type": "code",
   "execution_count": 71,
   "metadata": {
    "collapsed": true
   },
   "outputs": [],
   "source": [
    "locations = df[(df['unique_tags']>1) & (df['unique_tags_nospacy'] == 1)].index.tolist()\n",
    "samples = random.sample(locations, 20)\n",
    "sample_locations = []\n",
    "f = codecs.open('examples_spacy.txt', 'w', 'utf8')\n",
    "f.write('word \\t audible \\t glample \\t spacy \\t stanford \\n')\n",
    "for i in samples:\n",
    "    for j in range(i-5, i+5):\n",
    "        out_line = df.iloc[j, 0:5].tolist()\n",
    "        for cell in out_line:\n",
    "            f.write(cell)\n",
    "            f.write('\\t\\t')\n",
    "        f.write('\\n')\n",
    "    f.write('\\n\\n')\n",
    "f.close()"
   ]
  },
  {
   "cell_type": "markdown",
   "metadata": {},
   "source": [
    "## Stanford\n",
    "We see that stanford contains 455 instances where it disagrees with all the other systems. Unlike each of the other systems, I would not say that Stanford is overlabeling organizations. Indeed, it appears that Stanford's errors are more about overlabeling sequences than mistakes in particular types of tags."
   ]
  },
  {
   "cell_type": "code",
   "execution_count": 69,
   "metadata": {
    "collapsed": false
   },
   "outputs": [
    {
     "data": {
      "text/plain": [
       "(455, 10)"
      ]
     },
     "execution_count": 69,
     "metadata": {},
     "output_type": "execute_result"
    }
   ],
   "source": [
    "df['unique_tags_nostanf'] = df[['aud_clean', 'glamp_clean', 'spacy']].apply(lambda x: x.nunique(), axis=1)\n",
    "df[(df['unique_tags']>1) & (df['unique_tags_nostanf'] == 1)].shape"
   ]
  },
  {
   "cell_type": "code",
   "execution_count": 70,
   "metadata": {
    "collapsed": true
   },
   "outputs": [],
   "source": [
    "stanf = df[(df['unique_tags']>1) & (df['unique_tags_nostanf'] == 1)]['spacy'].value_counts()\n",
    "totals = df.spacy.value_counts()\n",
    "plot_dat = pd.DataFrame({'stanf':stanf,\n",
    "             'totals':totals})\n",
    "plot_dat['ratio'] = plot_dat.stanf/plot_dat.totals"
   ]
  },
  {
   "cell_type": "code",
   "execution_count": 72,
   "metadata": {
    "collapsed": false
   },
   "outputs": [
    {
     "data": {
      "text/plain": [
       "<matplotlib.axes._subplots.AxesSubplot at 0x11f1554d0>"
      ]
     },
     "execution_count": 72,
     "metadata": {},
     "output_type": "execute_result"
    },
    {
     "data": {
      "image/png": "[encoded data removed]",
      "text/plain": [
       "<matplotlib.figure.Figure at 0x1230e31d0>"
      ]
     },
     "metadata": {},
     "output_type": "display_data"
    }
   ],
   "source": [
    "sns.barplot(plot_dat.index, plot_dat.ratio)"
   ]
  },
  {
   "cell_type": "markdown",
   "metadata": {},
   "source": [
    "In the file below, it appears Stanford's label is mistaken **12** times"
   ]
  },
  {
   "cell_type": "code",
   "execution_count": 73,
   "metadata": {
    "collapsed": true
   },
   "outputs": [],
   "source": [
    "locations = df[(df['unique_tags']>1) & (df['unique_tags_nostanf'] == 1)].index.tolist()\n",
    "samples = random.sample(locations, 20)\n",
    "sample_locations = []\n",
    "f = codecs.open('examples_stanf.txt', 'w', 'utf8')\n",
    "f.write('word \\t audible \\t glample \\t spacy \\t stanford \\n')\n",
    "for i in samples:\n",
    "    for j in range(i-5, i+5):\n",
    "        out_line = df.iloc[j, 0:5].tolist()\n",
    "        for cell in out_line:\n",
    "            f.write(cell)\n",
    "            f.write('\\t\\t')\n",
    "        f.write('\\n')\n",
    "    f.write('\\n\\n')\n",
    "f.close()"
   ]
  },
  {
   "cell_type": "code",
   "execution_count": null,
   "metadata": {
    "collapsed": true
   },
   "outputs": [],
   "source": []
  }
 ],
 "metadata": {
  "kernelspec": {
   "display_name": "Python 2",
   "language": "python",
   "name": "python2"
  },
  "language_info": {
   "codemirror_mode": {
    "name": "ipython",
    "version": 2
   },
   "file_extension": ".py",
   "mimetype": "text/x-python",
   "name": "python",
   "nbconvert_exporter": "python",
   "pygments_lexer": "ipython2",
   "version": "2.7.11"
  }
 },
 "nbformat": 4,
 "nbformat_minor": 0
}
