{
 "cells": [
  {
   "cell_type": "code",
   "execution_count": 75,
   "metadata": {
    "collapsed": false
   },
   "outputs": [],
   "source": [
    "%matplotlib inline\n",
    "from nltk.corpus import brown\n",
    "import pandas as pd\n",
    "from sklearn.feature_extraction.text import CountVectorizer,\n",
    "from sklearn.naive_bayes import MultinomialNB\n",
    "from sklearn.pipeline import Pipeline\n",
    "from sklearn.model_selection import ShuffleSplit\n",
    "from sklearn.metrics import confusion_matrix, f1_score\n",
    "from sklearn import preprocessing\n",
    "import numpy as np\n",
    "import matplotlib.pyplot as plt\n",
    "import itertools\n",
    "import re\n",
    "import nltk\n",
    "from collections import Counter\n",
    "from itertools import chain\n",
    "from scipy.sparse import hstack\n",
    "\n",
    "def plot_confusion_matrix(cm, classes,\n",
    "                          normalize=False,\n",
    "                          title='Confusion matrix',\n",
    "                          cmap=plt.cm.Blues):\n",
    "    \"\"\"\n",
    "    This function prints and plots the confusion matrix.\n",
    "    Normalization can be applied by setting `normalize=True`.\n",
    "    \"\"\"\n",
    "    plt.imshow(cm, interpolation='nearest', cmap=cmap)\n",
    "    plt.title(title)\n",
    "    plt.colorbar()\n",
    "    tick_marks = np.arange(len(classes))\n",
    "    plt.xticks(tick_marks, classes, rotation=45)\n",
    "    plt.yticks(tick_marks, classes)\n",
    "\n",
    "    if normalize:\n",
    "        cm = cm.astype('float') / cm.sum(axis=1)[:, np.newaxis]\n",
    "        #print(\"Normalized confusion matrix\")\n",
    "    #else:\n",
    "        #print('Confusion matrix, without normalization')\n",
    "\n",
    "    #print(cm)\n",
    "\n",
    "    thresh = cm.max() / 2.\n",
    "    for i, j in itertools.product(range(cm.shape[0]), range(cm.shape[1])):\n",
    "        plt.text(j, i, cm[i, j],\n",
    "                 horizontalalignment=\"center\",\n",
    "                 color=\"white\" if cm[i, j] > thresh else \"black\")\n",
    "\n",
    "    plt.tight_layout()\n",
    "    plt.ylabel('True label')\n",
    "    plt.xlabel('Predicted label')"
   ]
  },
  {
   "cell_type": "markdown",
   "metadata": {},
   "source": [
    "# Classifying Brown\n",
    "\n",
    "As discussed previously, one of the first steps we wanted to take was to classify books into fiction and non fiction. In the brown corpus, this is pretty clear for most genres, with one exception. Humor (9 documents) is a mix of fiction and non-fiction. I couldn't immediately find information on which was which, so I just excluded it from the data.\n"
   ]
  },
  {
   "cell_type": "code",
   "execution_count": 2,
   "metadata": {
    "collapsed": false
   },
   "outputs": [],
   "source": [
    "df = pd.DataFrame({'fileid':[i for i in brown.fileids()]})\n",
    "df['text'] = df.fileid.apply(lambda x: ' '.join(brown.words(fileids=x)))\n",
    "df['category'] = df.fileid.apply(lambda x: brown.categories(fileids=x)[0])"
   ]
  },
  {
   "cell_type": "code",
   "execution_count": 4,
   "metadata": {
    "collapsed": false
   },
   "outputs": [],
   "source": [
    "category_dict={'adventure': 'Fiction',\n",
    "              'belles_lettres': 'Nonfiction',\n",
    "              'editorial': 'Nonfiction',\n",
    "              'fiction': 'Fiction',\n",
    "              'government': 'Nonfiction',\n",
    "              'hobbies': 'Nonfiction',\n",
    "              'humor': 'Humor',\n",
    "              'learned': 'Nonfiction',\n",
    "              'lore': 'Nonfiction',\n",
    "              'mystery': 'Fiction',\n",
    "              'news': 'Nonfiction',\n",
    "              'religion': 'Nonfiction',\n",
    "              'reviews': 'Nonfiction',\n",
    "              'romance': 'Fiction',\n",
    "              'science_fiction': 'Fiction'}\n",
    "df['fiction'] = df.category.map(category_dict)\n",
    "df = df[df.fiction!='Humor']"
   ]
  },
  {
   "cell_type": "code",
   "execution_count": 5,
   "metadata": {
    "collapsed": false
   },
   "outputs": [
    {
     "data": {
      "text/plain": [
       "Nonfiction    374\n",
       "Fiction       117\n",
       "Name: fiction, dtype: int64"
      ]
     },
     "execution_count": 5,
     "metadata": {},
     "output_type": "execute_result"
    }
   ],
   "source": [
    "df.fiction.value_counts()"
   ]
  },
  {
   "cell_type": "markdown",
   "metadata": {},
   "source": [
    "The data features a slight imbalance -- there are about three times as many nonfiction documents as there are fiction. This could pose a problem for classification, but as we will see, it turns out that simple models to a pretty good job on these data.\n",
    "\n",
    "To evaluate performance, I set up a 10-fold cross validation experiment with a multinomial naiive bayes classifier. The input to this model is a very simple unigram bag-of-words. "
   ]
  },
  {
   "cell_type": "code",
   "execution_count": 6,
   "metadata": {
    "collapsed": false
   },
   "outputs": [],
   "source": [
    "rs = ShuffleSplit(n_splits=10)\n",
    "scores = []\n",
    "conf = np.array([[0,0],[0,0]])\n",
    "le = preprocessing.LabelEncoder()\n",
    "le.fit(df.fiction)\n",
    "text_clf = Pipeline([('vect', CountVectorizer()),\n",
    "                    ('clf', MultinomialNB())])"
   ]
  },
  {
   "cell_type": "code",
   "execution_count": 7,
   "metadata": {
    "collapsed": false
   },
   "outputs": [],
   "source": [
    "for train, test in rs.split(df.text):\n",
    "    x_train = df.iloc[train]['text'].values\n",
    "    y_train = le.transform(df.iloc[train]['fiction'].values)\n",
    "    \n",
    "    x_test = df.iloc[test]['text'].values\n",
    "    y_test = le.transform(df.iloc[test]['fiction'].values)\n",
    "    \n",
    "    text_clf.fit(x_train, y_train)\n",
    "    preds = text_clf.predict(x_test)\n",
    "    \n",
    "    conf += confusion_matrix(y_test, preds)\n",
    "    score = f1_score(y_test, \n",
    "                     preds, pos_label=0)\n",
    "    scores.append(score)"
   ]
  },
  {
   "cell_type": "code",
   "execution_count": 8,
   "metadata": {
    "collapsed": false
   },
   "outputs": [
    {
     "name": "stdout",
     "output_type": "stream",
     "text": [
      "Average F1 score for fiction class across 10 folds = 0.853002957826\n",
      "SD of F1 score = 0.088710319931\n"
     ]
    },
    {
     "data": {
      "image/png": "[encoded data removed]",
      "text/plain": [
       "<matplotlib.figure.Figure at 0x10426ad90>"
      ]
     },
     "metadata": {},
     "output_type": "display_data"
    }
   ],
   "source": [
    "plot_confusion_matrix(conf, classes=le.classes_ )\n",
    "print ('Average F1 score for fiction class across 10 folds = %s' %np.mean(scores))\n",
    "print ('SD of F1 score = %s' % np.std(scores))"
   ]
  },
  {
   "cell_type": "markdown",
   "metadata": {},
   "source": [
    "The figure above shows the confusion matrix for the problem. Clearly, this was not a terribly difficult task, but there's also a little room for improvement. To what extent can we replicate this on other data? We can test the same idea using the MASC data. Unfortunately, this dataset is quite a bit smaller.\n",
    "\n",
    "# Classifying the MASC corpus"
   ]
  },
  {
   "cell_type": "code",
   "execution_count": 9,
   "metadata": {
    "collapsed": false
   },
   "outputs": [],
   "source": [
    "import lxml.etree as etree\n",
    "from bs4 import BeautifulSoup\n",
    "import glob\n",
    "\n",
    "files = glob.glob('data/*/*.xml')\n",
    "entities = {'person': 0, 'org':0, 'location':0, 'date':0}\n",
    "text = []\n",
    "category = []\n",
    "fileid = []\n",
    "for f in files:\n",
    "    xml_data = open(f).read()\n",
    "    soup = BeautifulSoup(xml_data, 'lxml')\n",
    "    text.append(soup.text)\n",
    "    category.append(re.findall('data/(.+)/',f)[0])\n",
    "    fileid.append(re.findall('data/.+/(.+)',f)[0])"
   ]
  },
  {
   "cell_type": "code",
   "execution_count": 10,
   "metadata": {
    "collapsed": false
   },
   "outputs": [],
   "source": [
    "df_masc = pd.DataFrame({'fileid':[i for i in fileid],\n",
    "                        'text':[i for i in text],\n",
    "                       'category':[i for i in category]})"
   ]
  },
  {
   "cell_type": "code",
   "execution_count": 11,
   "metadata": {
    "collapsed": false
   },
   "outputs": [
    {
     "data": {
      "text/plain": [
       "Nonfiction    85\n",
       "Fiction       12\n",
       "Name: fiction, dtype: int64"
      ]
     },
     "execution_count": 11,
     "metadata": {},
     "output_type": "execute_result"
    }
   ],
   "source": [
    "category_dict={'newspaper': 'Nonfiction',\n",
    "              'essays': 'Nonfiction',\n",
    "              'technical': 'Nonfiction',\n",
    "              'fiction': 'Fiction',\n",
    "              'travel_guides': 'Nonfiction',\n",
    "              'non_fiction': 'Nonfiction',\n",
    "              'ficlits': 'Fiction',\n",
    "              'govt_docs': 'Nonfiction'}\n",
    "df_masc['fiction'] = df_masc.category.map(category_dict)\n",
    "df_masc.fiction.value_counts()"
   ]
  },
  {
   "cell_type": "markdown",
   "metadata": {},
   "source": [
    "The imbalance here is quite a bit worse than the Brown corpus. There are nearly 7 times the number of nonfiction examples as fiction examples. Given how easy the previous classification problem was, this might pose a good test for how easy this problem is. \n",
    "\n",
    "Evaluation is the same as for the Brown Corpus, with the same classifier and features."
   ]
  },
  {
   "cell_type": "code",
   "execution_count": 12,
   "metadata": {
    "collapsed": true
   },
   "outputs": [],
   "source": [
    "rs = ShuffleSplit(n_splits=10)\n",
    "scores = []\n",
    "conf = np.array([[0,0],[0,0]])\n",
    "le = preprocessing.LabelEncoder()\n",
    "le.fit(df_masc.fiction)\n",
    "text_clf = Pipeline([('vect', CountVectorizer()),\n",
    "                    ('clf', MultinomialNB())])"
   ]
  },
  {
   "cell_type": "code",
   "execution_count": 13,
   "metadata": {
    "collapsed": false
   },
   "outputs": [
    {
     "name": "stderr",
     "output_type": "stream",
     "text": [
      "/Users/triddle/anaconda/lib/python2.7/site-packages/sklearn/metrics/classification.py:1115: UndefinedMetricWarning: F-score is ill-defined and being set to 0.0 due to no true samples.\n",
      "  'recall', 'true', average, warn_for)\n"
     ]
    }
   ],
   "source": [
    "for train, test in rs.split(df_masc.text):\n",
    "    x_train = df_masc.iloc[train]['text'].values\n",
    "    y_train = le.transform(df_masc.iloc[train]['fiction'].values)\n",
    "    \n",
    "    x_test = df_masc.iloc[test]['text'].values\n",
    "    y_test = le.transform(df_masc.iloc[test]['fiction'].values)\n",
    "    \n",
    "    text_clf.fit(x_train, y_train)\n",
    "    preds = text_clf.predict(x_test)\n",
    "    \n",
    "    \n",
    "    conf += confusion_matrix(y_test, preds)\n",
    "    score = f1_score(y_test, \n",
    "                     preds, pos_label=0)\n",
    "    scores.append(score)"
   ]
  },
  {
   "cell_type": "code",
   "execution_count": 14,
   "metadata": {
    "collapsed": false
   },
   "outputs": [
    {
     "name": "stdout",
     "output_type": "stream",
     "text": [
      "Average F1 score for Fiction across 10 folds = 0.8\n",
      "SD of F1 score = 0.4\n"
     ]
    },
    {
     "data": {
      "image/png": "[encoded data removed]",
      "text/plain": [
       "<matplotlib.figure.Figure at 0x11a5096d0>"
      ]
     },
     "metadata": {},
     "output_type": "display_data"
    }
   ],
   "source": [
    "plot_confusion_matrix(conf, classes=le.classes_)\n",
    "print ('Average F1 score for Fiction across 10 folds = %s' %np.mean(scores))\n",
    "print ('SD of F1 score = %s' % np.std(scores))"
   ]
  },
  {
   "cell_type": "markdown",
   "metadata": {},
   "source": [
    "The performance here is a bit worse than the Brown corpus, though this isn't too surprising, as there's less data to work with here. However, it still appears that there's a good signal in these data for classification, as performance is still relatively good."
   ]
  },
  {
   "cell_type": "markdown",
   "metadata": {},
   "source": [
    "# Combined corpora\n",
    "\n",
    "As both of these corpora are on the small side, we can get a better sense of performance by using the combined data on the same classification problem."
   ]
  },
  {
   "cell_type": "code",
   "execution_count": 15,
   "metadata": {
    "collapsed": false
   },
   "outputs": [],
   "source": [
    "df_combined = pd.concat([df, df_masc])\n",
    "rs = ShuffleSplit(n_splits=10)\n",
    "scores = []\n",
    "conf = np.array([[0,0],[0,0]])\n",
    "le = preprocessing.LabelEncoder()\n",
    "le.fit(df_combined.fiction)\n",
    "text_clf = Pipeline([('vect', CountVectorizer()),\n",
    "                    ('clf', MultinomialNB())])"
   ]
  },
  {
   "cell_type": "code",
   "execution_count": 16,
   "metadata": {
    "collapsed": false
   },
   "outputs": [],
   "source": [
    "for train, test in rs.split(df_combined.text):\n",
    "    x_train = df_combined.iloc[train]['text'].values\n",
    "    y_train = le.transform(df_combined.iloc[train]['fiction'].values)\n",
    "    \n",
    "    x_test = df_combined.iloc[test]['text'].values\n",
    "    y_test = le.transform(df_combined.iloc[test]['fiction'].values)\n",
    "    \n",
    "    text_clf.fit(x_train, y_train)\n",
    "    preds = text_clf.predict(x_test)\n",
    "    \n",
    "    \n",
    "    conf += confusion_matrix(y_test, preds)\n",
    "    score = f1_score(y_test, \n",
    "                     preds, pos_label=0)\n",
    "    scores.append(score)"
   ]
  },
  {
   "cell_type": "code",
   "execution_count": 17,
   "metadata": {
    "collapsed": false
   },
   "outputs": [
    {
     "name": "stdout",
     "output_type": "stream",
     "text": [
      "Average F1 score for Fiction across 10 folds = 0.888437904367\n",
      "SD of F1 score = 0.0549244580671\n"
     ]
    },
    {
     "data": {
      "image/png": "[encoded data removed]",
      "text/plain": [
       "<matplotlib.figure.Figure at 0x102b80ad0>"
      ]
     },
     "metadata": {},
     "output_type": "display_data"
    }
   ],
   "source": [
    "plot_confusion_matrix(conf, classes=le.classes_)\n",
    "print ('Average F1 score for Fiction across 10 folds = %s' %np.mean(scores))\n",
    "print ('SD of F1 score = %s' % np.std(scores))"
   ]
  },
  {
   "cell_type": "markdown",
   "metadata": {},
   "source": [
    "This performance is roughly on par with what we saw using just the brown corpus. If we want to see improvements, it seems as though we'll need to do some feature engineering or change the classifier. As a first approach, I'll incorporate some Part-of-speech features.\n",
    "\n",
    "# Part-of-speech data"
   ]
  },
  {
   "cell_type": "code",
   "execution_count": 18,
   "metadata": {
    "collapsed": false
   },
   "outputs": [],
   "source": [
    "tag_words = lambda x: nltk.pos_tag(nltk.word_tokenize(x))\n",
    "df_combined['tagged_data'] = df_combined.text.apply(tag_words)\n",
    "\n",
    "all_tags = sorted(set(list(zip(*chain(*df_combined['tagged_data'])))[1]))\n",
    "\n",
    "def add_pos_with_zero_counts(counter, keys_to_add):\n",
    "    for k in keys_to_add:\n",
    "        counter[k] = counter.get(k, 0)\n",
    "    return counter\n",
    "\n",
    "df_combined['pos_counts'] = df_combined['tagged_data'].apply(lambda x: Counter(list(zip(*x))[1]))\n",
    "df_combined['pos_counts_with_zero'] = df_combined['pos_counts'].apply(lambda x: add_pos_with_zero_counts(x, all_tags))\n",
    "df_combined['sent_vector'] = df_combined['pos_counts_with_zero'].apply(lambda x: [count for tag, count in sorted(x.most_common())])\n",
    "df_tags = pd.DataFrame(df_combined['sent_vector'].tolist())\n",
    "df_tags.columns = all_tags"
   ]
  },
  {
   "cell_type": "code",
   "execution_count": 19,
   "metadata": {
    "collapsed": false
   },
   "outputs": [],
   "source": [
    "rs = ShuffleSplit(n_splits=10)\n",
    "scores = []\n",
    "conf = np.array([[0,0],[0,0]])\n",
    "le = preprocessing.LabelEncoder()\n",
    "le.fit(df_combined.fiction)\n",
    "#text_clf = Pipeline([('vect', CountVectorizer()),\n",
    "#                    ('clf', MultinomialNB())])\n",
    "count_vect = CountVectorizer()\n",
    "clf = MultinomialNB()"
   ]
  },
  {
   "cell_type": "code",
   "execution_count": 22,
   "metadata": {
    "collapsed": false
   },
   "outputs": [],
   "source": [
    "for train, test in rs.split(df_combined.text):\n",
    "    text_train = df_combined.iloc[train]['text'].values\n",
    "    pos_train = df_tags.iloc[train]\n",
    "    y_train = le.transform(df_combined.iloc[train]['fiction'].values)\n",
    "    \n",
    "    text_test = df_combined.iloc[test]['text'].values\n",
    "    pos_test = df_tags.iloc[test]\n",
    "    y_test = le.transform(df_combined.iloc[test]['fiction'].values)\n",
    "    \n",
    "    train_counts = count_vect.fit_transform(text_train)\n",
    "    x_train = hstack([train_counts, pos_train])\n",
    "    test_counts = count_vect.transform(text_test)\n",
    "    x_test = hstack([test_counts, pos_test])\n",
    "    \n",
    "    \n",
    "    clf.fit(x_train, y_train)\n",
    "    preds = clf.predict(x_test)\n",
    "    \n",
    "    \n",
    "    conf += confusion_matrix(y_test, preds)\n",
    "    score = f1_score(y_test, \n",
    "                     preds, pos_label=0)\n",
    "    scores.append(score)"
   ]
  },
  {
   "cell_type": "code",
   "execution_count": 23,
   "metadata": {
    "collapsed": false
   },
   "outputs": [
    {
     "name": "stdout",
     "output_type": "stream",
     "text": [
      "Average F1 score for Fiction across 10 folds = 0.901205061483\n",
      "SD of F1 score = 0.0785927429999\n"
     ]
    },
    {
     "data": {
      "image/png": "[encoded data removed]",
      "text/plain": [
       "<matplotlib.figure.Figure at 0x116e99c90>"
      ]
     },
     "metadata": {},
     "output_type": "display_data"
    }
   ],
   "source": [
    "plot_confusion_matrix(conf, classes=le.classes_)\n",
    "print ('Average F1 score for Fiction across 10 folds = %s' %np.mean(scores))\n",
    "print ('SD of F1 score = %s' % np.std(scores))"
   ]
  },
  {
   "cell_type": "markdown",
   "metadata": {},
   "source": [
    "Adding the POS features had a positive effect on performance. We can see that the F1 score improved by a few points (from .87 to .93), and the variance of the performance across the folds has also gone down, (from a SD of .08 to .05), suggesting more stable performance on this task.\n",
    "\n",
    "# Classification summary\n",
    "\n",
    "Apparently picking out fictional vs non-fictional works is not terribly difficult. There are certainly a number of thing we could try to improve these results. In particular, I have not bothered attempting to tune hyperparameters, nor did I try out any other representations of the corpus (e.g. tf-idf, ngram > 1). I also didn't try using any other classifiers or using any methods to deal with unbalanced data. It seems probable that at least one of these (or some combination of them) could yield some improvements in performance. "
   ]
  },
  {
   "cell_type": "markdown",
   "metadata": {
    "collapsed": true
   },
   "source": [
    "# Clustering fiction works\n",
    "\n",
    "Having shown that we can accurately classify works based on whether they are fictional or not, I will now move on to exploring whether we can cluster documents in ways that would correspond to genre labels. I am using an unsupervised approach here because we have very few examples to work with. In particular, the MASC corpus has only 12 fictional works, and they are not further annotated by genre. The Brown corpus does provide some annotations by genre, but the labeling is inconsistent. For instance, although there are labels for science fiction (n=6), mystery (n=24), adventure (n=29) and romance (n=29), there's also a label for fiction (n=29). Presumably the former categories are also fiction, so it isn't clear what the basis of these labels are.\n",
    "\n",
    "Regardless, this gives us 5 categories that are clearly labeled + fiction. This seems to suggest a baseline attempt of 6 categories."
   ]
  },
  {
   "cell_type": "code",
   "execution_count": 77,
   "metadata": {
    "collapsed": false
   },
   "outputs": [
    {
     "name": "stderr",
     "output_type": "stream",
     "text": [
      "/Users/triddle/anaconda/lib/python2.7/site-packages/sklearn/utils/validation.py:429: DataConversionWarning: Data with input dtype int64 was converted to float64 by the normalize function.\n",
      "  warnings.warn(msg, _DataConversionWarning)\n"
     ]
    },
    {
     "data": {
      "text/plain": [
       "KMeans(algorithm='auto', copy_x=True, init='k-means++', max_iter=300,\n",
       "    n_clusters=6, n_init=10, n_jobs=1, precompute_distances='auto',\n",
       "    random_state=None, tol=0.0001, verbose=0)"
      ]
     },
     "execution_count": 77,
     "metadata": {},
     "output_type": "execute_result"
    }
   ],
   "source": [
    "from sklearn import cluster\n",
    "from sklearn.preprocessing import normalize\n",
    "k = 2\n",
    "kmeans = cluster.KMeans(n_clusters=k)\n",
    "\n",
    "df_clustering = df_combined[df_combined.fiction=='Fiction']\n",
    "df_tags = pd.DataFrame(df_clustering['sent_vector'].tolist())\n",
    "df_tags.columns = all_tags\n",
    "X = hstack([count_vect.fit_transform(df_clustering.text, ), df_tags])\n",
    "X = normalize(X) #varying document lengths\n",
    "kmeans.fit(X)"
   ]
  },
  {
   "cell_type": "code",
   "execution_count": 88,
   "metadata": {
    "collapsed": false
   },
   "outputs": [],
   "source": [
    "from sklearn.decomposition import TruncatedSVD\n",
    "labs = kmeans.labels_\n",
    "cents = kmeans.cluster_cent\n",
    "svd = TruncatedSVD(2)\n",
    "columns = svd.fit_transform(X)\n",
    "k_locs = svd.transform(cents)"
   ]
  },
  {
   "cell_type": "code",
   "execution_count": 99,
   "metadata": {
    "collapsed": false
   },
   "outputs": [
    {
     "data": {
      "image/png": "[encoded data removed]",
      "text/plain": [
       "<matplotlib.figure.Figure at 0x11b9ea250>"
      ]
     },
     "metadata": {},
     "output_type": "display_data"
    }
   ],
   "source": [
    "plt.scatter(x=columns[:,0], y=columns[:,1], s=8)\n",
    "plt.scatter(x=k_locs[:,0], y=k_locs[:,1], s=32, c='r')\n",
    "plt.show()"
   ]
  },
  {
   "cell_type": "code",
   "execution_count": 123,
   "metadata": {
    "collapsed": false
   },
   "outputs": [
    {
     "data": {
      "text/plain": [
       "array([[ 3,  0,  3,  5,  4,  1],\n",
       "       [ 6,  0, 13,  2,  9,  2],\n",
       "       [ 3,  0,  3,  4,  7,  0],\n",
       "       [ 6,  5,  4,  6,  7,  2],\n",
       "       [ 9,  0,  7,  4,  0,  0],\n",
       "       [ 2,  0,  6,  3,  2,  1]])"
      ]
     },
     "execution_count": 123,
     "metadata": {},
     "output_type": "execute_result"
    }
   ],
   "source": [
    "df_clustering['k_labs'] = labs\n",
    "df_clustering['k_labs'] = df_clustering['k_labs'].apply(str)\n",
    "confusion_matrix(df_clustering.k_labs, df_clustering.category)[0:6, 6:]"
   ]
  },
  {
   "cell_type": "markdown",
   "metadata": {},
   "source": [
    "A naive approach to this problem turned out to not work very well. I came to this conclusion because there's no clear separation when plotting the first two principal components of the X matrix, and an examination of the cluster assignments against the observed category labels doesn't provide much confidence that the method is giving sensible assignments (i.e. there are a lot of observations in the off-diagonal elements of the matrix above)\n"
   ]
  },
  {
   "cell_type": "markdown",
   "metadata": {},
   "source": [
    "# Classifying category?\n",
    "Given that the cursory attempt above was not terribly successful, I wanted to see what would happen with the same classification approach I'd previously taken. As we will see, there are some problems with this approach too. Most notably, we're now working with an extremely small number of examples to learn from. After removing the undifferentiated 'fiction' category, we're down to 93 documents. The majority of these documents are in the *adventure* and *romance* classes. Despite these limitations (and the relatively simplistic approach), I'm hopeful that this method would scale well with more examples."
   ]
  },
  {
   "cell_type": "code",
   "execution_count": 158,
   "metadata": {
    "collapsed": false
   },
   "outputs": [],
   "source": [
    "scores = []\n",
    "\n",
    "df_combined = df_combined[df_combined.fiction=='Fiction']\n",
    "df_combined = df_combined[df_combined.category!='fiction']\n",
    "df_tags = pd.DataFrame(df_clustering['sent_vector'].tolist())\n",
    "df_tags.columns = all_tags\n",
    "\n",
    "preds = np.zeros(1)\n",
    "labs = np.zeros(1)\n",
    "conf = np.zeros((5,5))\n",
    "le = preprocessing.LabelEncoder()\n",
    "le.fit(df_combined.category)\n",
    "#text_clf = Pipeline([('vect', CountVectorizer()),\n",
    "#                    ('clf', MultinomialNB())])\n",
    "count_vect = CountVectorizer()\n",
    "clf = MultinomialNB()\n",
    "\n",
    "for train, test in rs.split(df_combined.text):\n",
    "    text_train = df_combined.iloc[train]['text'].values\n",
    "    pos_train = df_tags.iloc[train]\n",
    "    y_train = le.transform(df_combined.iloc[train]['category'].values)\n",
    "    \n",
    "    text_test = df_combined.iloc[test]['text'].values\n",
    "    pos_test = df_tags.iloc[test]\n",
    "    y_test = le.transform(df_combined.iloc[test]['category'].values)\n",
    "    \n",
    "    train_counts = count_vect.fit_transform(text_train)\n",
    "    x_train = hstack([train_counts, pos_train])\n",
    "    test_counts = count_vect.transform(text_test)\n",
    "    x_test = hstack([test_counts, pos_test])\n",
    "    \n",
    "    \n",
    "    clf.fit(x_train, y_train)\n",
    "    preds = np.append(preds, clf.predict(x_test))\n",
    "    labs = np.append(labs, y_test)\n",
    "    \n",
    "    #conf += confusion_matrix(y_test, preds)\n",
    "    score = f1_score(y_test, \n",
    "                     clf.predict(x_test), average='macro')\n",
    "    scores.append(score)"
   ]
  },
  {
   "cell_type": "code",
   "execution_count": 159,
   "metadata": {
    "collapsed": false
   },
   "outputs": [
    {
     "name": "stdout",
     "output_type": "stream",
     "text": [
      "Average F1 macro score for genre across 10 folds = 0.529511904762\n",
      "SD of F1 score = 0.132810074975\n"
     ]
    },
    {
     "data": {
      "image/png": "[encoded data removed]",
      "text/plain": [
       "<matplotlib.figure.Figure at 0x11c40f5d0>"
      ]
     },
     "metadata": {},
     "output_type": "display_data"
    }
   ],
   "source": [
    "plot_confusion_matrix(confusion_matrix(labs, preds), classes=le.classes_)\n",
    "print ('Average F1 macro score for genre across 10 folds = %s' %np.mean(scores))\n",
    "print ('SD of F1 score = %s' % np.std(scores))"
   ]
  },
  {
   "cell_type": "markdown",
   "metadata": {},
   "source": [
    "The confusion matrix above indicates that the categories for which we have many examples are learned pretty well. Unfortunately, the data sent by Dan at this stage does not have any genre labels that we can work with. If we want to seek out additional genre tags, we could return to the Gutenberg Corpus. Although the tags are not organized in a transparent fashion, it may still be possible to use them to assign one of a smaller handful of labels. For instance, [Wallace](http://bigdata.cs.brown.edu/thesis.pdf) used a clustering approach based on tag assignments. Although the gutenberg corpus might not be relevant, I think Audrey mentioned that they had applied some user tagging to some subset (/all?) of their data. So we may be able to work with that if gutenberg isn't appropriate"
   ]
  },
  {
   "cell_type": "code",
   "execution_count": null,
   "metadata": {
    "collapsed": true
   },
   "outputs": [],
   "source": []
  }
 ],
 "metadata": {
  "kernelspec": {
   "display_name": "Python 2",
   "language": "python",
   "name": "python2"
  },
  "language_info": {
   "codemirror_mode": {
    "name": "ipython",
    "version": 2
   },
   "file_extension": ".py",
   "mimetype": "text/x-python",
   "name": "python",
   "nbconvert_exporter": "python",
   "pygments_lexer": "ipython2",
   "version": "2.7.12"
  }
 },
 "nbformat": 4,
 "nbformat_minor": 0
}
