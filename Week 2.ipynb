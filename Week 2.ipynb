{
 "cells": [
  {
   "cell_type": "code",
   "execution_count": 223,
   "metadata": {
    "collapsed": false
   },
   "outputs": [],
   "source": [
    "%matplotlib inline\n",
    "from nltk.corpus import brown\n",
    "import pandas as pd\n",
    "from sklearn.feature_extraction.text import CountVectorizer\n",
    "from sklearn.naive_bayes import MultinomialNB\n",
    "from sklearn.pipeline import Pipeline\n",
    "from sklearn.model_selection import ShuffleSplit\n",
    "from sklearn.metrics import confusion_matrix, f1_score\n",
    "from sklearn import preprocessing\n",
    "import numpy as np\n",
    "import matplotlib.pyplot as plt\n",
    "import itertools\n",
    "import re\n",
    "import nltk\n",
    "from collections import Counter\n",
    "from itertools import chain\n",
    "\n",
    "def plot_confusion_matrix(cm, classes,\n",
    "                          normalize=False,\n",
    "                          title='Confusion matrix',\n",
    "                          cmap=plt.cm.Blues):\n",
    "    \"\"\"\n",
    "    This function prints and plots the confusion matrix.\n",
    "    Normalization can be applied by setting `normalize=True`.\n",
    "    \"\"\"\n",
    "    plt.imshow(cm, interpolation='nearest', cmap=cmap)\n",
    "    plt.title(title)\n",
    "    plt.colorbar()\n",
    "    tick_marks = np.arange(len(classes))\n",
    "    plt.xticks(tick_marks, classes, rotation=45)\n",
    "    plt.yticks(tick_marks, classes)\n",
    "\n",
    "    if normalize:\n",
    "        cm = cm.astype('float') / cm.sum(axis=1)[:, np.newaxis]\n",
    "        #print(\"Normalized confusion matrix\")\n",
    "    #else:\n",
    "        #print('Confusion matrix, without normalization')\n",
    "\n",
    "    #print(cm)\n",
    "\n",
    "    thresh = cm.max() / 2.\n",
    "    for i, j in itertools.product(range(cm.shape[0]), range(cm.shape[1])):\n",
    "        plt.text(j, i, cm[i, j],\n",
    "                 horizontalalignment=\"center\",\n",
    "                 color=\"white\" if cm[i, j] > thresh else \"black\")\n",
    "\n",
    "    plt.tight_layout()\n",
    "    plt.ylabel('True label')\n",
    "    plt.xlabel('Predicted label')"
   ]
  },
  {
   "cell_type": "markdown",
   "metadata": {},
   "source": [
    "# Classifying Brown\n",
    "\n",
    "As discussed previously, one of the first steps we wanted to take was to classify books into fiction and non fiction. In the brown corpus, this is pretty clear for most genres, with one exception. Humor (9 documents) is a mix of fiction and non-fiction. I couldn't immediately find information on which was which, so I just excluded it from the data.\n"
   ]
  },
  {
   "cell_type": "code",
   "execution_count": 106,
   "metadata": {
    "collapsed": false
   },
   "outputs": [],
   "source": [
    "df = pd.DataFrame({'fileid':[i for i in brown.fileids()]})\n",
    "df['text'] = df.fileid.apply(lambda x: ' '.join(brown.words(fileids=x)))\n",
    "df['category'] = df.fileid.apply(lambda x: brown.categories(fileids=x)[0])"
   ]
  },
  {
   "cell_type": "code",
   "execution_count": 107,
   "metadata": {
    "collapsed": false
   },
   "outputs": [],
   "source": [
    "category_dict={'adventure': 'Fiction',\n",
    "              'belles_lettres': 'Nonfiction',\n",
    "              'editorial': 'Nonfiction',\n",
    "              'fiction': 'Fiction',\n",
    "              'government': 'Nonfiction',\n",
    "              'hobbies': 'Nonfiction',\n",
    "              'humor': 'Humor',\n",
    "              'learned': 'Nonfiction',\n",
    "              'lore': 'Nonfiction',\n",
    "              'mystery': 'Fiction',\n",
    "              'news': 'Nonfiction',\n",
    "              'religion': 'Nonfiction',\n",
    "              'reviews': 'Nonfiction',\n",
    "              'romance': 'Fiction',\n",
    "              'science_fiction': 'Fiction'}\n",
    "df['fiction'] = df.category.map(category_dict)\n",
    "df = df[df.fiction!='Humor']"
   ]
  },
  {
   "cell_type": "code",
   "execution_count": 108,
   "metadata": {
    "collapsed": false
   },
   "outputs": [
    {
     "data": {
      "text/plain": [
       "Nonfiction    374\n",
       "Fiction       117\n",
       "Name: fiction, dtype: int64"
      ]
     },
     "execution_count": 108,
     "metadata": {},
     "output_type": "execute_result"
    }
   ],
   "source": [
    "df.fiction.value_counts()"
   ]
  },
  {
   "cell_type": "markdown",
   "metadata": {},
   "source": [
    "The data features a slight imbalance -- there are about three times as many nonfiction documents as there are fiction. This could pose a problem for classification, but as we will see, it turns out that simple models to a pretty good job on these data.\n",
    "\n",
    "To evaluate performance, I set up a 10-fold cross validation experiment with a multinomial naiive bayes classifier. The input to this model is a very simple unigram bag-of-words. "
   ]
  },
  {
   "cell_type": "code",
   "execution_count": 193,
   "metadata": {
    "collapsed": false
   },
   "outputs": [],
   "source": [
    "rs = ShuffleSplit(n_splits=10)\n",
    "scores = []\n",
    "conf = np.array([[0,0],[0,0]])\n",
    "le = preprocessing.LabelEncoder()\n",
    "le.fit(df.fiction)\n",
    "text_clf = Pipeline([('vect', CountVectorizer()),\n",
    "                    ('clf', MultinomialNB())])"
   ]
  },
  {
   "cell_type": "code",
   "execution_count": 194,
   "metadata": {
    "collapsed": false
   },
   "outputs": [],
   "source": [
    "for train, test in rs.split(df.text):\n",
    "    x_train = df.iloc[train]['text'].values\n",
    "    y_train = le.transform(df.iloc[train]['fiction'].values)\n",
    "    \n",
    "    x_test = df.iloc[test]['text'].values\n",
    "    y_test = le.transform(df.iloc[test]['fiction'].values)\n",
    "    \n",
    "    text_clf.fit(x_train, y_train)\n",
    "    preds = text_clf.predict(x_test)\n",
    "    \n",
    "    conf += confusion_matrix(y_test, preds)\n",
    "    score = f1_score(y_test, \n",
    "                     preds, pos_label=0)\n",
    "    scores.append(score)"
   ]
  },
  {
   "cell_type": "code",
   "execution_count": 195,
   "metadata": {
    "collapsed": false
   },
   "outputs": [
    {
     "name": "stdout",
     "output_type": "stream",
     "text": [
      "Average F1 score for fiction class across 10 folds = 0.877488416474\n",
      "SD of F1 score = 0.0713905528186\n"
     ]
    },
    {
     "data": {
      "image/png": "[encoded data removed]",
      "text/plain": [
       "<matplotlib.figure.Figure at 0x11ef28a50>"
      ]
     },
     "metadata": {},
     "output_type": "display_data"
    }
   ],
   "source": [
    "plot_confusion_matrix(conf, classes=le.classes_ )\n",
    "print ('Average F1 score for fiction class across 10 folds = %s' %np.mean(scores))\n",
    "print ('SD of F1 score = %s' % np.std(scores))"
   ]
  },
  {
   "cell_type": "markdown",
   "metadata": {},
   "source": [
    "The figure above shows the confusion matrix for the problem. Clearly, this was not a terribly difficult task, but there's also a little room for improvement. To what extent can we replicate this on other data? We can test the same idea using the MASC data. Unfortunately, this dataset is quite a bit smaller.\n",
    "\n",
    "# Classifying the MASC corpus"
   ]
  },
  {
   "cell_type": "code",
   "execution_count": 144,
   "metadata": {
    "collapsed": false
   },
   "outputs": [],
   "source": [
    "import lxml.etree as etree\n",
    "from bs4 import BeautifulSoup\n",
    "import glob\n",
    "\n",
    "files = glob.glob('data/*/*.xml')\n",
    "entities = {'person': 0, 'org':0, 'location':0, 'date':0}\n",
    "text = []\n",
    "category = []\n",
    "fileid = []\n",
    "for f in files:\n",
    "    xml_data = open(f).read()\n",
    "    soup = BeautifulSoup(xml_data, 'lxml')\n",
    "    text.append(soup.text)\n",
    "    category.append(re.findall('data/(.+)/',f)[0])\n",
    "    fileid.append(re.findall('data/.+/(.+)',f)[0])"
   ]
  },
  {
   "cell_type": "code",
   "execution_count": 149,
   "metadata": {
    "collapsed": false
   },
   "outputs": [],
   "source": [
    "df_masc = pd.DataFrame({'fileid':[i for i in fileid],\n",
    "                        'text':[i for i in text],\n",
    "                       'category':[i for i in category]})"
   ]
  },
  {
   "cell_type": "code",
   "execution_count": 150,
   "metadata": {
    "collapsed": false
   },
   "outputs": [
    {
     "data": {
      "text/plain": [
       "Nonfiction    85\n",
       "Fiction       12\n",
       "Name: fiction, dtype: int64"
      ]
     },
     "execution_count": 150,
     "metadata": {},
     "output_type": "execute_result"
    }
   ],
   "source": [
    "category_dict={'newspaper': 'Nonfiction',\n",
    "              'essays': 'Nonfiction',\n",
    "              'technical': 'Nonfiction',\n",
    "              'fiction': 'Fiction',\n",
    "              'travel_guides': 'Nonfiction',\n",
    "              'non_fiction': 'Nonfiction',\n",
    "              'ficlits': 'Fiction',\n",
    "              'govt_docs': 'Nonfiction'}\n",
    "df_masc['fiction'] = df_masc.category.map(category_dict)\n",
    "df_masc.fiction.value_counts()"
   ]
  },
  {
   "cell_type": "markdown",
   "metadata": {},
   "source": [
    "The imbalance here is quite a bit worse than the Brown corpus. There are nearly 7 times the number of nonfiction examples as fiction examples. Given how easy the previous classification problem was, this might pose a good test for how easy this problem is. \n",
    "\n",
    "Evaluation is the same as for the Brown Corpus, with the same classifier and features."
   ]
  },
  {
   "cell_type": "code",
   "execution_count": 266,
   "metadata": {
    "collapsed": true
   },
   "outputs": [],
   "source": [
    "rs = ShuffleSplit(n_splits=10)\n",
    "scores = []\n",
    "conf = np.array([[0,0],[0,0]])\n",
    "le = preprocessing.LabelEncoder()\n",
    "le.fit(df_masc.fiction)\n",
    "text_clf = Pipeline([('vect', CountVectorizer()),\n",
    "                    ('clf', MultinomialNB())])"
   ]
  },
  {
   "cell_type": "code",
   "execution_count": 267,
   "metadata": {
    "collapsed": false
   },
   "outputs": [],
   "source": [
    "for train, test in rs.split(df_masc.text):\n",
    "    x_train = df_masc.iloc[train]['text'].values\n",
    "    y_train = le.transform(df_masc.iloc[train]['fiction'].values)\n",
    "    \n",
    "    x_test = df_masc.iloc[test]['text'].values\n",
    "    y_test = le.transform(df_masc.iloc[test]['fiction'].values)\n",
    "    \n",
    "    text_clf.fit(x_train, y_train)\n",
    "    preds = text_clf.predict(x_test)\n",
    "    \n",
    "    \n",
    "    conf += confusion_matrix(y_test, preds)\n",
    "    score = f1_score(y_test, \n",
    "                     preds, pos_label=0)\n",
    "    scores.append(score)"
   ]
  },
  {
   "cell_type": "code",
   "execution_count": 268,
   "metadata": {
    "collapsed": false
   },
   "outputs": [
    {
     "name": "stdout",
     "output_type": "stream",
     "text": [
      "Average F1 score for Fiction across 10 folds = 0.785714285714\n",
      "SD of F1 score = 0.395123333884\n"
     ]
    },
    {
     "data": {
      "image/png": "[encoded data removed]",
      "text/plain": [
       "<matplotlib.figure.Figure at 0x1373d0790>"
      ]
     },
     "metadata": {},
     "output_type": "display_data"
    }
   ],
   "source": [
    "plot_confusion_matrix(conf, classes=le.classes_)\n",
    "print ('Average F1 score for Fiction across 10 folds = %s' %np.mean(scores))\n",
    "print ('SD of F1 score = %s' % np.std(scores))"
   ]
  },
  {
   "cell_type": "markdown",
   "metadata": {},
   "source": [
    "The performance here is a bit worse than the Brown corpus, though this isn't too surprising, as there's less data to work with here. However, it still appears that there's a good signal in these data for classification, as performance is still relatively good."
   ]
  },
  {
   "cell_type": "markdown",
   "metadata": {},
   "source": [
    "# Combined corpora\n",
    "\n",
    "As both of these corpora are on the small side, we can get a better sense of performance by using the combined data on the same classification problem."
   ]
  },
  {
   "cell_type": "code",
   "execution_count": 202,
   "metadata": {
    "collapsed": false
   },
   "outputs": [],
   "source": [
    "df_combined = pd.concat([df, df_masc])\n",
    "rs = ShuffleSplit(n_splits=10)\n",
    "scores = []\n",
    "conf = np.array([[0,0],[0,0]])\n",
    "le = preprocessing.LabelEncoder()\n",
    "le.fit(df_combined.fiction)\n",
    "text_clf = Pipeline([('vect', CountVectorizer()),\n",
    "                    ('clf', MultinomialNB())])"
   ]
  },
  {
   "cell_type": "code",
   "execution_count": 203,
   "metadata": {
    "collapsed": false
   },
   "outputs": [],
   "source": [
    "for train, test in rs.split(df_combined.text):\n",
    "    x_train = df_combined.iloc[train]['text'].values\n",
    "    y_train = le.transform(df_combined.iloc[train]['fiction'].values)\n",
    "    \n",
    "    x_test = df_combined.iloc[test]['text'].values\n",
    "    y_test = le.transform(df_combined.iloc[test]['fiction'].values)\n",
    "    \n",
    "    text_clf.fit(x_train, y_train)\n",
    "    preds = text_clf.predict(x_test)\n",
    "    \n",
    "    \n",
    "    conf += confusion_matrix(y_test, preds)\n",
    "    score = f1_score(y_test, \n",
    "                     preds, pos_label=0)\n",
    "    scores.append(score)"
   ]
  },
  {
   "cell_type": "code",
   "execution_count": 204,
   "metadata": {
    "collapsed": false
   },
   "outputs": [
    {
     "name": "stdout",
     "output_type": "stream",
     "text": [
      "Average F1 score for Fiction across 10 folds = 0.874601531753\n",
      "SD of F1 score = 0.075085701183\n"
     ]
    },
    {
     "data": {
      "image/png": "[encoded data removed]",
      "text/plain": [
       "<matplotlib.figure.Figure at 0x1203e1150>"
      ]
     },
     "metadata": {},
     "output_type": "display_data"
    }
   ],
   "source": [
    "plot_confusion_matrix(conf, classes=le.classes_)\n",
    "print ('Average F1 score for Fiction across 10 folds = %s' %np.mean(scores))\n",
    "print ('SD of F1 score = %s' % np.std(scores))"
   ]
  },
  {
   "cell_type": "markdown",
   "metadata": {},
   "source": [
    "This performance is roughly on par with what we saw using just the brown corpus. If we want to see improvements, it seems as though we'll need to do some feature engineering or change the classifier. As a first approach, I'll incorporate some Part-of-speech features.\n",
    "\n",
    "# Part-of-speech data"
   ]
  },
  {
   "cell_type": "code",
   "execution_count": 225,
   "metadata": {
    "collapsed": false
   },
   "outputs": [],
   "source": [
    "tag_words = lambda x: nltk.pos_tag(nltk.word_tokenize(x))\n",
    "df_combined['tagged_data'] = df_combined.text.apply(tag_words)\n",
    "\n",
    "all_tags = sorted(set(list(zip(*chain(*df_combined['tagged_data'])))[1]))\n",
    "\n",
    "def add_pos_with_zero_counts(counter, keys_to_add):\n",
    "    for k in keys_to_add:\n",
    "        counter[k] = counter.get(k, 0)\n",
    "    return counter\n",
    "\n",
    "df_combined['pos_counts'] = df_combined['tagged_data'].apply(lambda x: Counter(list(zip(*x))[1]))\n",
    "df_combined['pos_counts_with_zero'] = df_combined['pos_counts'].apply(lambda x: add_pos_with_zero_counts(x, all_tags))\n",
    "df_combined['sent_vector'] = df_combined['pos_counts_with_zero'].apply(lambda x: [count for tag, count in sorted(x.most_common())])\n",
    "df_tags = pd.DataFrame(df_combined['sent_vector'].tolist())\n",
    "df_tags.columns = all_tags"
   ]
  },
  {
   "cell_type": "code",
   "execution_count": 257,
   "metadata": {
    "collapsed": false
   },
   "outputs": [],
   "source": [
    "rs = ShuffleSplit(n_splits=10)\n",
    "scores = []\n",
    "conf = np.array([[0,0],[0,0]])\n",
    "le = preprocessing.LabelEncoder()\n",
    "le.fit(df_combined.fiction)\n",
    "#text_clf = Pipeline([('vect', CountVectorizer()),\n",
    "#                    ('clf', MultinomialNB())])\n",
    "count_vect = CountVectorizer()\n",
    "clf = MultinomialNB()"
   ]
  },
  {
   "cell_type": "code",
   "execution_count": 258,
   "metadata": {
    "collapsed": false
   },
   "outputs": [],
   "source": [
    "for train, test in rs.split(df_combined.text):\n",
    "    text_train = df_combined.iloc[train]['text'].values\n",
    "    pos_train = df_tags.iloc[train]\n",
    "    y_train = le.transform(df_combined.iloc[train]['fiction'].values)\n",
    "    \n",
    "    text_test = df_combined.iloc[test]['text'].values\n",
    "    pos_test = df_tags.iloc[test]\n",
    "    y_test = le.transform(df_combined.iloc[test]['fiction'].values)\n",
    "    \n",
    "    train_counts = count_vect.fit_transform(text_train)\n",
    "    x_train = hstack([train_counts, pos_train])\n",
    "    test_counts = count_vect.transform(text_test)\n",
    "    x_test = hstack([test_counts, pos_test])\n",
    "    \n",
    "    \n",
    "    clf.fit(x_train, y_train)\n",
    "    preds = clf.predict(x_test)\n",
    "    \n",
    "    \n",
    "    conf += confusion_matrix(y_test, preds)\n",
    "    score = f1_score(y_test, \n",
    "                     preds, pos_label=0)\n",
    "    scores.append(score)"
   ]
  },
  {
   "cell_type": "code",
   "execution_count": 259,
   "metadata": {
    "collapsed": false
   },
   "outputs": [
    {
     "name": "stdout",
     "output_type": "stream",
     "text": [
      "Average F1 score for Fiction across 10 folds = 0.931592493784\n",
      "SD of F1 score = 0.047386312465\n"
     ]
    },
    {
     "data": {
      "image/png": "[encoded data removed]",
      "text/plain": [
       "<matplotlib.figure.Figure at 0x11939cc90>"
      ]
     },
     "metadata": {},
     "output_type": "display_data"
    }
   ],
   "source": [
    "plot_confusion_matrix(conf, classes=le.classes_)\n",
    "print ('Average F1 score for Fiction across 10 folds = %s' %np.mean(scores))\n",
    "print ('SD of F1 score = %s' % np.std(scores))"
   ]
  },
  {
   "cell_type": "markdown",
   "metadata": {},
   "source": [
    "Adding the POS features had a positive effect on performance. We can see that the F1 score improved by a few points (from .87 to .93), and the variance of the performance across the folds has also gone down, (from a SD of .08 to .05), suggesting more stable performance on this task."
   ]
  },
  {
   "cell_type": "code",
   "execution_count": null,
   "metadata": {
    "collapsed": true
   },
   "outputs": [],
   "source": []
  }
 ],
 "metadata": {
  "kernelspec": {
   "display_name": "Python 2",
   "language": "python",
   "name": "python2"
  },
  "language_info": {
   "codemirror_mode": {
    "name": "ipython",
    "version": 2
   },
   "file_extension": ".py",
   "mimetype": "text/x-python",
   "name": "python",
   "nbconvert_exporter": "python",
   "pygments_lexer": "ipython2",
   "version": "2.7.12"
  }
 },
 "nbformat": 4,
 "nbformat_minor": 0
}
