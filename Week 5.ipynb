{
 "cells": [
  {
   "cell_type": "markdown",
   "metadata": {},
   "source": [
    "Here, I'm just writing a file that contains the data for mturk annotation."
   ]
  },
  {
   "cell_type": "code",
   "execution_count": 1,
   "metadata": {
    "collapsed": true
   },
   "outputs": [],
   "source": [
    "import pandas as pd"
   ]
  },
  {
   "cell_type": "code",
   "execution_count": 127,
   "metadata": {
    "collapsed": true
   },
   "outputs": [],
   "source": [
    "df = pd.read_csv('all_systems.csv', encoding='utf8')"
   ]
  },
  {
   "cell_type": "code",
   "execution_count": 128,
   "metadata": {
    "collapsed": false
   },
   "outputs": [],
   "source": [
    "df = df[['audible_text', 'aud_clean', 'stanford']]\n"
   ]
  },
  {
   "cell_type": "code",
   "execution_count": 129,
   "metadata": {
    "collapsed": false
   },
   "outputs": [],
   "source": [
    "import random\n",
    "import codecs\n",
    "df['aud_clean'].replace(['B-P', 'I-P'], 'Person', inplace=True)\n",
    "df['aud_clean'].replace(['O-'], 'Not an entity', inplace=True)\n",
    "df['aud_clean'].replace(['B-L', 'I-L'], 'Location', inplace=True)\n",
    "df['aud_clean'].replace(['B-O', 'I-O'], 'Organization', inplace=True)\n",
    "df['stanford'].replace(['B-P', 'I-P'], 'Person', inplace=True)\n",
    "df['stanford'].replace(['O-'], 'Not an entity', inplace=True)\n",
    "df['stanford'].replace(['B-L', 'I-L'], 'Location', inplace=True)\n",
    "df['stanford'].replace(['B-O', 'I-O'], 'Organization', inplace=True)\n",
    "locations = df[df['aud_clean']!=df['stanford']].index.tolist()\n",
    "#samples = random.sample(locations, 200)\n",
    "out_text1 = []\n",
    "out_word = []\n",
    "out_text2 = []\n",
    "out_audlab = []\n",
    "out_stanlab = []\n",
    "for j in locations:\n",
    "    out_text1.append(' '.join(df.iloc[i, 0] for i in range(j-15, j)))\n",
    "    out_word.append(df.iloc[j, 0])\n",
    "    out_text2.append(' '.join(df.iloc[i, 0] for i in range(j+1, j+15)))\n",
    "    out_audlab.append(df.iloc[j, 1])\n",
    "    out_stanlab.append(df.iloc[j, 2])\n"
   ]
  },
  {
   "cell_type": "code",
   "execution_count": 130,
   "metadata": {
    "collapsed": false
   },
   "outputs": [
    {
     "data": {
      "text/html": [
       "<div>\n",
       "<table border=\"1\" class=\"dataframe\">\n",
       "  <thead>\n",
       "    <tr style=\"text-align: right;\">\n",
       "      <th></th>\n",
       "      <th>aud</th>\n",
       "      <th>stan</th>\n",
       "      <th>text1</th>\n",
       "      <th>text2</th>\n",
       "      <th>word</th>\n",
       "    </tr>\n",
       "  </thead>\n",
       "  <tbody>\n",
       "    <tr>\n",
       "      <th>0</th>\n",
       "      <td>Not an entity</td>\n",
       "      <td>Location</td>\n",
       "      <td>was gay . My father hounded him without mercy ...</td>\n",
       "      <td>, \" she said . But I was all out of Purple Hea...</td>\n",
       "      <td>Seine</td>\n",
       "    </tr>\n",
       "    <tr>\n",
       "      <th>1</th>\n",
       "      <td>Not an entity</td>\n",
       "      <td>Location</td>\n",
       "      <td>himself in the Seine , \" she said . But I was ...</td>\n",
       "      <td>Hearts and had decided that Honoria was going ...</td>\n",
       "      <td>Purple</td>\n",
       "    </tr>\n",
       "    <tr>\n",
       "      <th>2</th>\n",
       "      <td>Not an entity</td>\n",
       "      <td>Location</td>\n",
       "      <td>in the Seine , \" she said . But I was all out ...</td>\n",
       "      <td>and had decided that Honoria was going to leav...</td>\n",
       "      <td>Hearts</td>\n",
       "    </tr>\n",
       "    <tr>\n",
       "      <th>3</th>\n",
       "      <td>Person</td>\n",
       "      <td>Not an entity</td>\n",
       "      <td>. My determination suddenly dissipated when I ...</td>\n",
       "      <td>' handyman , with his son and Sister Molly nex...</td>\n",
       "      <td>Chalonses</td>\n",
       "    </tr>\n",
       "    <tr>\n",
       "      <th>4</th>\n",
       "      <td>Person</td>\n",
       "      <td>Not an entity</td>\n",
       "      <td>out the front window and saw the Chalonses ' h...</td>\n",
       "      <td>Molly next to him , turn into my driveway . \" ...</td>\n",
       "      <td>Sister</td>\n",
       "    </tr>\n",
       "  </tbody>\n",
       "</table>\n",
       "</div>"
      ],
      "text/plain": [
       "             aud           stan  \\\n",
       "0  Not an entity       Location   \n",
       "1  Not an entity       Location   \n",
       "2  Not an entity       Location   \n",
       "3         Person  Not an entity   \n",
       "4         Person  Not an entity   \n",
       "\n",
       "                                               text1  \\\n",
       "0  was gay . My father hounded him without mercy ...   \n",
       "1  himself in the Seine , \" she said . But I was ...   \n",
       "2  in the Seine , \" she said . But I was all out ...   \n",
       "3  . My determination suddenly dissipated when I ...   \n",
       "4  out the front window and saw the Chalonses ' h...   \n",
       "\n",
       "                                               text2       word  \n",
       "0  , \" she said . But I was all out of Purple Hea...      Seine  \n",
       "1  Hearts and had decided that Honoria was going ...     Purple  \n",
       "2  and had decided that Honoria was going to leav...     Hearts  \n",
       "3  ' handyman , with his son and Sister Molly nex...  Chalonses  \n",
       "4  Molly next to him , turn into my driveway . \" ...     Sister  "
      ]
     },
     "execution_count": 130,
     "metadata": {},
     "output_type": "execute_result"
    }
   ],
   "source": [
    "outdat = pd.DataFrame({'text1':out_text1,\n",
    "                      'word':out_word,\n",
    "                      'text2':out_text2,\n",
    "                      'aud':out_audlab,\n",
    "                      'stan':out_stanlab})\n",
    "\n",
    "outdat = outdat.copy()\n",
    "outdat.head()"
   ]
  },
  {
   "cell_type": "code",
   "execution_count": 131,
   "metadata": {
    "collapsed": false
   },
   "outputs": [
    {
     "data": {
      "text/html": [
       "<div>\n",
       "<table border=\"1\" class=\"dataframe\">\n",
       "  <thead>\n",
       "    <tr style=\"text-align: right;\">\n",
       "      <th></th>\n",
       "      <th>index_b</th>\n",
       "      <th>aud_b</th>\n",
       "      <th>stan_b</th>\n",
       "      <th>text1_b</th>\n",
       "      <th>text2_b</th>\n",
       "      <th>word_b</th>\n",
       "    </tr>\n",
       "  </thead>\n",
       "  <tbody>\n",
       "    <tr>\n",
       "      <th>0</th>\n",
       "      <td>1096</td>\n",
       "      <td>Not an entity</td>\n",
       "      <td>Person</td>\n",
       "      <td>the wall at waist height . He 'd seen such a t...</td>\n",
       "      <td>, he and his friends called them . Queers look...</td>\n",
       "      <td>Holes</td>\n",
       "    </tr>\n",
       "    <tr>\n",
       "      <th>1</th>\n",
       "      <td>1187</td>\n",
       "      <td>Organization</td>\n",
       "      <td>Not an entity</td>\n",
       "      <td>he 'd built up an immunity to come-hither smil...</td>\n",
       "      <td>leggings and no make-up , her face rosy-cheeke...</td>\n",
       "      <td>Lycra</td>\n",
       "    </tr>\n",
       "    <tr>\n",
       "      <th>2</th>\n",
       "      <td>2059</td>\n",
       "      <td>Not an entity</td>\n",
       "      <td>Person</td>\n",
       "      <td>surely chosen the picture he considered the wo...</td>\n",
       "      <td>picked an experimental still life of a pitcher...</td>\n",
       "      <td>Matisse</td>\n",
       "    </tr>\n",
       "    <tr>\n",
       "      <th>3</th>\n",
       "      <td>1373</td>\n",
       "      <td>Organization</td>\n",
       "      <td>Not an entity</td>\n",
       "      <td>antidragon grenade from his vest pocket and , ...</td>\n",
       "      <td>Transfinite Transformations , hurled it with a...</td>\n",
       "      <td>of</td>\n",
       "    </tr>\n",
       "    <tr>\n",
       "      <th>4</th>\n",
       "      <td>1707</td>\n",
       "      <td>Organization</td>\n",
       "      <td>Person</td>\n",
       "      <td>that the Steins were becoming serious collecto...</td>\n",
       "      <td>paid another visit to Derain in Chatou . This ...</td>\n",
       "      <td>Vollard</td>\n",
       "    </tr>\n",
       "  </tbody>\n",
       "</table>\n",
       "</div>"
      ],
      "text/plain": [
       "   index_b          aud_b         stan_b  \\\n",
       "0     1096  Not an entity         Person   \n",
       "1     1187   Organization  Not an entity   \n",
       "2     2059  Not an entity         Person   \n",
       "3     1373   Organization  Not an entity   \n",
       "4     1707   Organization         Person   \n",
       "\n",
       "                                             text1_b  \\\n",
       "0  the wall at waist height . He 'd seen such a t...   \n",
       "1  he 'd built up an immunity to come-hither smil...   \n",
       "2  surely chosen the picture he considered the wo...   \n",
       "3  antidragon grenade from his vest pocket and , ...   \n",
       "4  that the Steins were becoming serious collecto...   \n",
       "\n",
       "                                             text2_b   word_b  \n",
       "0  , he and his friends called them . Queers look...    Holes  \n",
       "1  leggings and no make-up , her face rosy-cheeke...    Lycra  \n",
       "2  picked an experimental still life of a pitcher...  Matisse  \n",
       "3  Transfinite Transformations , hurled it with a...       of  \n",
       "4  paid another visit to Derain in Chatou . This ...  Vollard  "
      ]
     },
     "execution_count": 131,
     "metadata": {},
     "output_type": "execute_result"
    }
   ],
   "source": [
    "outdat_a = outdat.copy().reset_index()\n",
    "outdat_b = outdat.copy().sample(frac=1).reset_index()\n",
    "outdat_c = outdat.copy().sample(frac=1).reset_index()\n",
    "outdat_d = outdat.copy().sample(frac=1).reset_index()\n",
    "outdat_e = outdat.copy().sample(frac=1).reset_index()\n",
    "a_cols = [i + '_a' for i in outdat_a.columns.values]\n",
    "b_cols = [i + '_b' for i in outdat_b.columns.values]\n",
    "c_cols = [i + '_c' for i in outdat_c.columns.values]\n",
    "d_cols = [i + '_d' for i in outdat_d.columns.values]\n",
    "e_cols = [i + '_e' for i in outdat_e.columns.values]\n",
    "outdat_a.columns = a_cols\n",
    "outdat_b.columns = b_cols\n",
    "outdat_c.columns = c_cols\n",
    "outdat_d.columns = d_cols\n",
    "outdat_e.columns = e_cols\n",
    "outdat_b.head()"
   ]
  },
  {
   "cell_type": "code",
   "execution_count": 132,
   "metadata": {
    "collapsed": false
   },
   "outputs": [
    {
     "data": {
      "text/plain": [
       "Index([u'index_a', u'aud_a', u'stan_a', u'text1_a', u'text2_a', u'word_a',\n",
       "       u'index_b', u'aud_b', u'stan_b', u'text1_b', u'text2_b', u'word_b',\n",
       "       u'index_c', u'aud_c', u'stan_c', u'text1_c', u'text2_c', u'word_c',\n",
       "       u'index_d', u'aud_d', u'stan_d', u'text1_d', u'text2_d', u'word_d',\n",
       "       u'index_e', u'aud_e', u'stan_e', u'text1_e', u'text2_e', u'word_e'],\n",
       "      dtype='object')"
      ]
     },
     "execution_count": 132,
     "metadata": {},
     "output_type": "execute_result"
    }
   ],
   "source": [
    "temp = pd.concat([outdat_a, outdat_b, outdat_c, outdat_d, outdat_e], axis=1)\n",
    "temp.columns"
   ]
  },
  {
   "cell_type": "code",
   "execution_count": 133,
   "metadata": {
    "collapsed": false
   },
   "outputs": [],
   "source": [
    "temp.to_csv('mturk.csv', index=False, encoding='utf8')"
   ]
  },
  {
   "cell_type": "code",
   "execution_count": 54,
   "metadata": {
    "collapsed": false
   },
   "outputs": [
    {
     "data": {
      "text/plain": [
       "2721"
      ]
     },
     "execution_count": 54,
     "metadata": {},
     "output_type": "execute_result"
    }
   ],
   "source": [
    "len(locations)"
   ]
  },
  {
   "cell_type": "code",
   "execution_count": 134,
   "metadata": {
    "collapsed": false
   },
   "outputs": [
    {
     "data": {
      "text/plain": [
       "5"
      ]
     },
     "execution_count": 134,
     "metadata": {},
     "output_type": "execute_result"
    }
   ],
   "source": [
    "300/60"
   ]
  },
  {
   "cell_type": "code",
   "execution_count": 51,
   "metadata": {
    "collapsed": true
   },
   "outputs": [
    {
     "data": {
      "text/html": [
       "<div>\n",
       "<table border=\"1\" class=\"dataframe\">\n",
       "  <thead>\n",
       "    <tr style=\"text-align: right;\">\n",
       "      <th></th>\n",
       "      <th>aud</th>\n",
       "      <th>stan</th>\n",
       "      <th>text1</th>\n",
       "      <th>text2</th>\n",
       "      <th>word</th>\n",
       "    </tr>\n",
       "  </thead>\n",
       "  <tbody>\n",
       "    <tr>\n",
       "      <th>0</th>\n",
       "      <td>Location</td>\n",
       "      <td>None</td>\n",
       "      <td>merchants and rag-and-bone men . At the edge o...</td>\n",
       "      <td>, in or near the rue Norvins , Modigliani</td>\n",
       "      <td>Maquis</td>\n",
       "    </tr>\n",
       "    <tr>\n",
       "      <th>1</th>\n",
       "      <td>None</td>\n",
       "      <td>Person</td>\n",
       "      <td>but his boots slipped in the bruised grass , and</td>\n",
       "      <td>broke free . He ran , only to fall</td>\n",
       "      <td>Summers</td>\n",
       "    </tr>\n",
       "    <tr>\n",
       "      <th>2</th>\n",
       "      <td>Person</td>\n",
       "      <td>None</td>\n",
       "      <td>according to the old sidereal laws . ' All this</td>\n",
       "      <td>read one day from a book , yellowed with</td>\n",
       "      <td>Trurl</td>\n",
       "    </tr>\n",
       "    <tr>\n",
       "      <th>3</th>\n",
       "      <td>Organization</td>\n",
       "      <td>None</td>\n",
       "      <td>' remarked Picasso . 8 . New Tensions , New</td>\n",
       "      <td>In Montmartre that November , Leo Stein made a...</td>\n",
       "      <td>Opportunities</td>\n",
       "    </tr>\n",
       "    <tr>\n",
       "      <th>4</th>\n",
       "      <td>Person</td>\n",
       "      <td>Location</td>\n",
       "      <td>someone about one of the doctors who was here ...</td>\n",
       "      <td>was a mental hospital . \" She lost interest</td>\n",
       "      <td>Grandview</td>\n",
       "    </tr>\n",
       "    <tr>\n",
       "      <th>5</th>\n",
       "      <td>Person</td>\n",
       "      <td>None</td>\n",
       "      <td>coroner saw no reason to doubt it . Why 's</td>\n",
       "      <td>Campbell stirring it up again now , in any</td>\n",
       "      <td>Doctor</td>\n",
       "    </tr>\n",
       "    <tr>\n",
       "      <th>6</th>\n",
       "      <td>Person</td>\n",
       "      <td>None</td>\n",
       "      <td>on , then put her hand on one of the</td>\n",
       "      <td>lids . Aidan noticed the range cooker had gone</td>\n",
       "      <td>Rayburn</td>\n",
       "    </tr>\n",
       "    <tr>\n",
       "      <th>7</th>\n",
       "      <td>Person</td>\n",
       "      <td>None</td>\n",
       "      <td>Perhaps it had n't been on the dresser . Maybe</td>\n",
       "      <td>had been about to make a call and then</td>\n",
       "      <td>Ivy</td>\n",
       "    </tr>\n",
       "    <tr>\n",
       "      <th>8</th>\n",
       "      <td>None</td>\n",
       "      <td>Person</td>\n",
       "      <td>\" he asked . \" He 's staying at the</td>\n",
       "      <td>home . Everett was married to Patsy — must</td>\n",
       "      <td>LeBlanc</td>\n",
       "    </tr>\n",
       "    <tr>\n",
       "      <th>9</th>\n",
       "      <td>Organization</td>\n",
       "      <td>None</td>\n",
       "      <td>, put them in touch with the organizers of the</td>\n",
       "      <td>d'Automne , who by now included Derain as well</td>\n",
       "      <td>Salon</td>\n",
       "    </tr>\n",
       "  </tbody>\n",
       "</table>\n",
       "</div>"
      ],
      "text/plain": [
       "            aud      stan                                              text1  \\\n",
       "0      Location      None  merchants and rag-and-bone men . At the edge o...   \n",
       "1          None    Person   but his boots slipped in the bruised grass , and   \n",
       "2        Person      None    according to the old sidereal laws . ' All this   \n",
       "3  Organization      None        ' remarked Picasso . 8 . New Tensions , New   \n",
       "4        Person  Location  someone about one of the doctors who was here ...   \n",
       "5        Person      None         coroner saw no reason to doubt it . Why 's   \n",
       "6        Person      None               on , then put her hand on one of the   \n",
       "7        Person      None     Perhaps it had n't been on the dresser . Maybe   \n",
       "8          None    Person                \" he asked . \" He 's staying at the   \n",
       "9  Organization      None     , put them in touch with the organizers of the   \n",
       "\n",
       "                                               text2           word  \n",
       "0          , in or near the rue Norvins , Modigliani         Maquis  \n",
       "1                 broke free . He ran , only to fall        Summers  \n",
       "2           read one day from a book , yellowed with          Trurl  \n",
       "3  In Montmartre that November , Leo Stein made a...  Opportunities  \n",
       "4        was a mental hospital . \" She lost interest      Grandview  \n",
       "5         Campbell stirring it up again now , in any         Doctor  \n",
       "6     lids . Aidan noticed the range cooker had gone        Rayburn  \n",
       "7             had been about to make a call and then            Ivy  \n",
       "8         home . Everett was married to Patsy — must        LeBlanc  \n",
       "9     d'Automne , who by now included Derain as well          Salon  "
      ]
     },
     "execution_count": 51,
     "metadata": {},
     "output_type": "execute_result"
    }
   ],
   "source": [
    "outdat.head(10)"
   ]
  },
  {
   "cell_type": "code",
   "execution_count": 56,
   "metadata": {
    "collapsed": false
   },
   "outputs": [
    {
     "data": {
      "text/plain": [
       "13605"
      ]
     },
     "execution_count": 56,
     "metadata": {},
     "output_type": "execute_result"
    }
   ],
   "source": [
    "2721*5"
   ]
  },
  {
   "cell_type": "code",
   "execution_count": 63,
   "metadata": {
    "collapsed": false
   },
   "outputs": [
    {
     "data": {
      "text/plain": [
       "2721"
      ]
     },
     "execution_count": 63,
     "metadata": {},
     "output_type": "execute_result"
    }
   ],
   "source": [
    "13605/5"
   ]
  },
  {
   "cell_type": "code",
   "execution_count": 66,
   "metadata": {
    "collapsed": false
   },
   "outputs": [
    {
     "data": {
      "text/plain": [
       "979.56"
      ]
     },
     "execution_count": 66,
     "metadata": {},
     "output_type": "execute_result"
    }
   ],
   "source": [
    "(2721*.3)*1.2"
   ]
  },
  {
   "cell_type": "code",
   "execution_count": null,
   "metadata": {
    "collapsed": true
   },
   "outputs": [],
   "source": []
  }
 ],
 "metadata": {
  "kernelspec": {
   "display_name": "Python 2",
   "language": "python",
   "name": "python2"
  },
  "language_info": {
   "codemirror_mode": {
    "name": "ipython",
    "version": 2
   },
   "file_extension": ".py",
   "mimetype": "text/x-python",
   "name": "python",
   "nbconvert_exporter": "python",
   "pygments_lexer": "ipython2",
   "version": "2.7.11"
  }
 },
 "nbformat": 4,
 "nbformat_minor": 0
}
