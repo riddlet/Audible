{
 "cells": [
  {
   "cell_type": "code",
   "execution_count": 1,
   "metadata": {
    "collapsed": false
   },
   "outputs": [],
   "source": [
    "%matplotlib inline\n",
    "import nltk\n",
    "from nltk.corpus import brown\n",
    "import pandas as pd\n",
    "import seaborn as sns\n",
    "from __future__ import division"
   ]
  },
  {
   "cell_type": "markdown",
   "metadata": {},
   "source": [
    "# Brown Corpus details\n",
    "\n",
    "The brown corpus was first published in 1964, and most recently updated in 1979. It is designated a corpus of modern American English, and all entries have been contributed by speakers of native english.\n",
    "\n",
    "The texts in the Brown corpus have been manually annotated for parts of speech. Other meta-data for the text include segmentations at the word, sentence, and paragraph level. The corpus is composed of 500 samples of text in 15 different categories of text. Each sample is approximately 2000 words long and begins at the beginning of a sentence. The sample ends at the first sentence ending after 2000 words.\n",
    "\n",
    "The fiction samples included must have had less than 50% dialogue.\n",
    "\n",
    "The corpus is organized into a number of hierarchical categories. At the top of this hierarchy is the division into Informative Prose and Imaginative Prose"
   ]
  },
  {
   "cell_type": "markdown",
   "metadata": {},
   "source": [
    "|  Type | Number of Samples   |\n",
    "|---|---:|\n",
    "| Informative Prose  | 374  |\n",
    "| Imaginative Prose  |  126 |"
   ]
  },
  {
   "cell_type": "markdown",
   "metadata": {},
   "source": [
    "Within each of these higher-levels, there are a number of categories of text, listed below:"
   ]
  },
  {
   "cell_type": "markdown",
   "metadata": {},
   "source": [
    "|Type   |Category   |Count   |\n",
    "|---|---|--:|\n",
    "|**Informative**   |Press: Reporting   |44   |\n",
    "|   |Press: Editorial   |   27|\n",
    "|   |Press: Reviews   |   17|\n",
    "|   |Religion   |   17|\n",
    "|   |Skills & Hobbies  |   36|\n",
    "|   |Popular Lore   |   48|\n",
    "|   |Belles Lettres, Biographies, Memoirs, etc   |   75|\n",
    "|   |Miscellaneous   |   30|\n",
    "|   |Learned   |   80|\n",
    "|   |  *total*| **374**  |\n",
    "|   |   |   |\n",
    "|**Imaginative**   |General Fiction   |   29|\n",
    "|   |Mystery   |   24|\n",
    "|   |Science Fiction   |   6|\n",
    "|   |Adventure   |   29|\n",
    "|   |Romance   |   29|\n",
    "|   |Humor   |   9|\n",
    "|   | *total* |   **126**|"
   ]
  },
  {
   "cell_type": "markdown",
   "metadata": {},
   "source": [
    "In total, there are just over one million words of text in the corpus. These words are divided into the categories as follows:\n"
   ]
  },
  {
   "cell_type": "code",
   "execution_count": 2,
   "metadata": {
    "collapsed": false
   },
   "outputs": [
    {
     "name": "stdout",
     "output_type": "stream",
     "text": [
      "('Category', 'Number of words')\n",
      "********************\n",
      "('Adventure', 69342)\n",
      "('Belles Letres, Biographies, Memoirs, etc', 173096)\n",
      "('Press: Editorial', 61604)\n",
      "('General Fiction', 68488)\n",
      "('Miscellaneous', 70117)\n",
      "('Skills & Hobbies', 82345)\n",
      "('Humor', 21695)\n",
      "('Learned', 181888)\n",
      "('Popular Lore', 110299)\n",
      "('Mystery', 57169)\n",
      "('News', 100554)\n",
      "('Religion', 39399)\n",
      "('Reviews', 40704)\n",
      "('Romance', 70022)\n",
      "('Science Fiction', 14470)\n"
     ]
    }
   ],
   "source": [
    "category_dict={'adventure': 'Adventure',\n",
    "              'belles_lettres': 'Belles Letres, Biographies, Memoirs, etc',\n",
    "              'editorial': 'Press: Editorial',\n",
    "              'fiction': 'General Fiction',\n",
    "              'government': 'Miscellaneous',\n",
    "              'hobbies': 'Skills & Hobbies',\n",
    "              'humor': 'Humor',\n",
    "              'learned': 'Learned',\n",
    "              'lore': 'Popular Lore',\n",
    "              'mystery': 'Mystery',\n",
    "              'news': 'News',\n",
    "              'religion': 'Religion',\n",
    "              'reviews': 'Reviews',\n",
    "              'romance': 'Romance',\n",
    "              'science_fiction': 'Science Fiction'}\n",
    "print('Category', 'Number of words')\n",
    "print('********************')\n",
    "for i in brown.categories():\n",
    "    print(category_dict[i], len(brown.words(categories=i)))"
   ]
  },
  {
   "cell_type": "markdown",
   "metadata": {},
   "source": [
    "More interestingly, we can examine the number of unique words in each set. This is known as the type-token ratio. This isn't a perfect metric - it's strongly driven by the size of the corpus, but it can sometimes reveal interesting differences between genres."
   ]
  },
  {
   "cell_type": "code",
   "execution_count": 3,
   "metadata": {
    "collapsed": false
   },
   "outputs": [],
   "source": [
    "type_toke_dict = {}\n",
    "for i in brown.categories():\n",
    "    type_toke_dict[category_dict[i]] = len(set(brown.words(categories=i)))/len(brown.words(categories=i))"
   ]
  },
  {
   "cell_type": "code",
   "execution_count": 4,
   "metadata": {
    "collapsed": false
   },
   "outputs": [
    {
     "data": {
      "text/plain": [
       "<seaborn.axisgrid.FacetGrid at 0x115832b90>"
      ]
     },
     "execution_count": 4,
     "metadata": {},
     "output_type": "execute_result"
    },
    {
     "data": {
      "image/png": "[encoded data removed]",
      "text/plain": [
       "<matplotlib.figure.Figure at 0x115832f50>"
      ]
     },
     "metadata": {},
     "output_type": "display_data"
    }
   ],
   "source": [
    "df = pd.DataFrame(type_toke_dict.items(), columns=['category', 'type_token'])\n",
    "sns.factorplot(y='category', x='type_token', data=df, kind='bar', orient='h', size=4, aspect=1.5)"
   ]
  },
  {
   "cell_type": "markdown",
   "metadata": {},
   "source": [
    "# MASC corpus\n",
    "\n",
    "I've discovered one additional corpus that may be of use to us. The Manually Annotated Sub-Corpus is a subset of the Open American National Corpus that has been manually annotated for a number of features. Most interesting for us is that it has been anotated for entities (people, organizations, locations, and dates).\n",
    "\n",
    "The American National Corpus provides a number of ways of accessing this data. The [web interface](http://www.anc.org:8080/ANC2Go/) is the most straightforward. One can see that the data exists in a number of categories. For the efforts below, I've limited it to those *written* categories that are closest to what one would expect in a book - essays, ficlets, fiction, govt docs, newspaper, non-fiction, technical, and travel-guides. I've not attempted to separate these into categories. For the moment, I'm most interested in the distribution of entity categories."
   ]
  },
  {
   "cell_type": "code",
   "execution_count": 1,
   "metadata": {
    "collapsed": false,
    "scrolled": true
   },
   "outputs": [],
   "source": [
    "import lxml.etree as etree\n",
    "from bs4 import BeautifulSoup\n",
    "import glob\n",
    "\n",
    "files = glob.glob('data/masc_NER/*.xml')\n",
    "entities = {'person': 0, 'org':0, 'location':0, 'date':0}\n",
    "total_tokens = 0\n",
    "for f in files:\n",
    "    xml_data = open(f).read()\n",
    "    soup = BeautifulSoup(xml_data, 'lxml')\n",
    "    for i in soup.find_all('p'):\n",
    "        for item in i:\n",
    "            total_tokens += 1\n",
    "            if item.name in ['person', 'org', 'location', 'date']:\n",
    "                entities[item.name] += 1\n",
    "        #print i.string\n",
    "        #if i.parent in ['person', 'org', 'date', 'location']:\n",
    "        #    print i.parent\n",
    "    #print(soup.prettify())\n"
   ]
  },
  {
   "cell_type": "code",
   "execution_count": 2,
   "metadata": {
    "collapsed": false
   },
   "outputs": [
    {
     "name": "stdout",
     "output_type": "stream",
     "text": [
      "There are 1492 instances of date\n",
      "There are 3323 instances of person\n",
      "There are 2600 instances of location\n",
      "There are 1312 instances of org\n",
      "***** 409862 tokens ******\n"
     ]
    }
   ],
   "source": [
    "for i in entities.keys():\n",
    "    print('There are ' + str(entities[i]) + ' instances of ' + str(i))\n",
    "print('***** ' + str(total_tokens) + ' tokens ******')"
   ]
  },
  {
   "cell_type": "code",
   "execution_count": null,
   "metadata": {
    "collapsed": true
   },
   "outputs": [],
   "source": []
  }
 ],
 "metadata": {
  "kernelspec": {
   "display_name": "Python 2",
   "language": "python",
   "name": "python2"
  },
  "language_info": {
   "codemirror_mode": {
    "name": "ipython",
    "version": 2
   },
   "file_extension": ".py",
   "mimetype": "text/x-python",
   "name": "python",
   "nbconvert_exporter": "python",
   "pygments_lexer": "ipython2",
   "version": "2.7.12"
  }
 },
 "nbformat": 4,
 "nbformat_minor": 0
}
